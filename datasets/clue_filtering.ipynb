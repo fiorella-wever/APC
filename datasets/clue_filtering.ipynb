{
 "cells": [
  {
   "cell_type": "markdown",
   "metadata": {},
   "source": [
    "## Preprocessing Clue dataset"
   ]
  },
  {
   "cell_type": "code",
   "execution_count": 2,
   "metadata": {
    "id": "MHid6q7VBLME"
   },
   "outputs": [],
   "source": [
    "import math\n",
    "import numpy as np\n",
    "import pandas as pd\n",
    "import seaborn as sns\n",
    "import feather\n",
    "import pickle\n",
    "import itertools\n",
    "from tqdm import tqdm\n",
    "import matplotlib.pyplot as plt\n",
    "from datetime import datetime, timedelta, date\n",
    "from dateutil import relativedelta\n",
    "from collections import defaultdict\n",
    "import more_itertools as mit\n",
    "from sklearn.model_selection import train_test_split\n",
    "from sklearn import preprocessing\n",
    "from sklearn.preprocessing import OneHotEncoder\n",
    "from dateutil.relativedelta import relativedelta\n",
    "from itertools import chain\n",
    "from collections import Counter "
   ]
  },
  {
   "cell_type": "markdown",
   "metadata": {
    "id": "FNPOhbe-BLMM"
   },
   "source": [
    "# Import data"
   ]
  },
  {
   "cell_type": "code",
   "execution_count": null,
   "metadata": {
    "id": "qzTLvOy2BLMN"
   },
   "outputs": [],
   "source": [
    "data_folder = \"final_datasets/\""
   ]
  },
  {
   "cell_type": "code",
   "execution_count": null,
   "metadata": {},
   "outputs": [],
   "source": [
    "users_path = base_path + \"users.feather\"\n",
    "cycles_path = base_path + \"cycles.feather\"\n",
    "bc_path = base_path + \"birth_control.feather\"\n",
    "tracking_path = base_path + \"tracking.feather\""
   ]
  },
  {
   "cell_type": "code",
   "execution_count": null,
   "metadata": {},
   "outputs": [],
   "source": [
    "users = feather.read_dataframe(users_path)\n",
    "users.shape"
   ]
  },
  {
   "cell_type": "code",
   "execution_count": null,
   "metadata": {},
   "outputs": [],
   "source": [
    "birth_control = feather.read_dataframe(bc_path)\n",
    "birth_control.shape"
   ]
  },
  {
   "cell_type": "code",
   "execution_count": null,
   "metadata": {},
   "outputs": [],
   "source": [
    "cycles = feather.read_dataframe(cycles_path)\n",
    "cycles.shape"
   ]
  },
  {
   "cell_type": "code",
   "execution_count": null,
   "metadata": {},
   "outputs": [],
   "source": [
    "tracking = feather.read_dataframe(tracking_path)\n",
    "tracking.shape"
   ]
  },
  {
   "cell_type": "markdown",
   "metadata": {
    "id": "bsk4vzkQBLMU"
   },
   "source": [
    "# Filtering"
   ]
  },
  {
   "cell_type": "markdown",
   "metadata": {
    "id": "iY8zgxDWBLMU"
   },
   "source": [
    "### helper functions"
   ]
  },
  {
   "cell_type": "code",
   "execution_count": null,
   "metadata": {
    "id": "rwm7Ag1mBLMU"
   },
   "outputs": [],
   "source": [
    "def daterange(start_date, end_date):\n",
    "    for n in range(int ((end_date - start_date).days) + 1):\n",
    "        yield start_date + timedelta(n)"
   ]
  },
  {
   "cell_type": "code",
   "execution_count": null,
   "metadata": {
    "id": "R5Ir5jeEBLMU"
   },
   "outputs": [],
   "source": [
    "def make_unique_cycle_ids(row):\n",
    "    return row[\"anon_id\"] + \"_\" + str(row[\"cycle_id\"])"
   ]
  },
  {
   "cell_type": "markdown",
   "metadata": {
    "id": "pSwqDr8sBLMU"
   },
   "source": [
    "## 1. Keep all dates > January 1st 2016"
   ]
  },
  {
   "cell_type": "code",
   "execution_count": null,
   "metadata": {
    "id": "BHSM7BBx_qfe"
   },
   "outputs": [],
   "source": [
    "def filter_df_dates(df, col_name):\n",
    "  # filter dataframe to only contain dates after Jan 1st, 2016\n",
    "    df[col_name] = pd.to_datetime(df[col_name], format='%Y-%m-%d')\n",
    "    df[col_name] = df[col_name].dt.date\n",
    "    df = df[df[col_name] > datetime(2016, 1, 1).date()]\n",
    "    return df"
   ]
  },
  {
   "cell_type": "code",
   "execution_count": null,
   "metadata": {
    "id": "Vo_pIIj1Amih"
   },
   "outputs": [],
   "source": [
    "cycles = filter_df_dates(cycles, \"cycle_start\")\n",
    "cycles = filter_df_dates(cycles, \"cycle_end\")\n",
    "cycles.shape"
   ]
  },
  {
   "cell_type": "code",
   "execution_count": null,
   "metadata": {
    "id": "p7gGiEtKAu5o"
   },
   "outputs": [],
   "source": [
    "tracking = filter_df_dates(tracking, \"date\")\n",
    "tracking.shape"
   ]
  },
  {
   "cell_type": "code",
   "execution_count": null,
   "metadata": {
    "id": "OuGg6CqnAxfM"
   },
   "outputs": [],
   "source": [
    "birth_control = filter_df_dates(birth_control, \"date\")\n",
    "birth_control.shape"
   ]
  },
  {
   "cell_type": "markdown",
   "metadata": {
    "id": "-dRELWUNBLMZ"
   },
   "source": [
    "### add cycle id to tracking dataset"
   ]
  },
  {
   "cell_type": "code",
   "execution_count": null,
   "metadata": {
    "id": "tjJN6JH7BLMZ"
   },
   "outputs": [],
   "source": [
    "cycles[\"unique_cycle_id\"] = cycles.apply(lambda x: make_unique_cycle_ids(x), axis=1)"
   ]
  },
  {
   "cell_type": "code",
   "execution_count": null,
   "metadata": {
    "id": "cHnB-0F2BLMa"
   },
   "outputs": [],
   "source": [
    "def create_cycle_id_mapper(cycles):\n",
    "    cycle_id_mapper = defaultdict(dict)\n",
    "    for i, values in enumerate(tqdm(cycles.groupby(\"anon_id\"))):\n",
    "        user = values[0]\n",
    "        cycle_starts = values[1][\"cycle_start\"]\n",
    "        cycle_ids = values[1][\"unique_cycle_id\"]\n",
    "        cycle_end_dates = values[1][\"cycle_end\"]\n",
    "        for j, (start, ID, end) in enumerate(zip(cycle_starts, cycle_ids, cycle_end_dates)):\n",
    "            date_range = [x for x in daterange(start, end)]\n",
    "            cycle_id_mapper[user][tuple(date_range)] = ID\n",
    "    return cycle_id_mapper"
   ]
  },
  {
   "cell_type": "code",
   "execution_count": null,
   "metadata": {
    "id": "qVrBRgonBLMb"
   },
   "outputs": [],
   "source": [
    "cycle_id_mapper = create_cycle_id_mapper(cycles)"
   ]
  },
  {
   "cell_type": "code",
   "execution_count": null,
   "metadata": {
    "id": "fLuJzrPkBLMb"
   },
   "outputs": [],
   "source": [
    "tracking = tracking[tracking[\"anon_id\"].isin(cycles[\"anon_id\"].unique())]\n",
    "tracking.shape"
   ]
  },
  {
   "cell_type": "code",
   "execution_count": null,
   "metadata": {
    "id": "hXYZwZ3QBLMe"
   },
   "outputs": [],
   "source": [
    "def map_date_to_ID(user, date):\n",
    "    ID = 0\n",
    "    for key in cycle_id_mapper[user].keys():\n",
    "        if date in key:\n",
    "            ID = cycle_id_mapper[user][key]  \n",
    "            return ID\n",
    "        else:\n",
    "            continue\n",
    "                \n",
    "    if ID == 0:\n",
    "        return \"no valid cycle_id\""
   ]
  },
  {
   "cell_type": "code",
   "execution_count": null,
   "metadata": {
    "id": "Mle8DCkVBLMg"
   },
   "outputs": [],
   "source": [
    "users = users[users[\"anon_id\"].isin(cycles[\"anon_id\"].unique())]\n",
    "users.shape"
   ]
  },
  {
   "cell_type": "code",
   "execution_count": null,
   "metadata": {},
   "outputs": [],
   "source": [
    "tracking[\"cycle_id\"] = tracking.apply(lambda x: map_date_to_ID(x[\"anon_id\"], x[\"date\"]), axis=1)"
   ]
  },
  {
   "cell_type": "code",
   "execution_count": null,
   "metadata": {
    "id": "Jz3SEaViCB5n"
   },
   "outputs": [],
   "source": [
    "tracking = tracking[tracking[\"cycle_id\"] != \"no valid cycle_id\"]\n",
    "tracking = tracking[tracking[\"cycle_id\"].isin(cycles[\"unique_cycle_id\"].tolist())]\n",
    "tracking.shape"
   ]
  },
  {
   "cell_type": "code",
   "execution_count": null,
   "metadata": {
    "id": "QnoYTkG6BLMm"
   },
   "outputs": [],
   "source": [
    "birth_control = birth_control[birth_control[\"anon_id\"].isin(cycles[\"anon_id\"].unique())]\n",
    "birth_control.shape"
   ]
  },
  {
   "cell_type": "markdown",
   "metadata": {
    "id": "Lw7CezTXBLMo"
   },
   "source": [
    "## 2. Users that have tracked at least 6 months and 6 cycles (both)"
   ]
  },
  {
   "cell_type": "code",
   "execution_count": null,
   "metadata": {
    "id": "IgJ7PL6dBLMo"
   },
   "outputs": [],
   "source": [
    "tracking = tracking.sort_values([\"anon_id\", \"date\"], ascending=True).reset_index()"
   ]
  },
  {
   "cell_type": "code",
   "execution_count": null,
   "metadata": {
    "id": "4h8r9JljBLMo",
    "scrolled": true
   },
   "outputs": [],
   "source": [
    "users_to_keep = []\n",
    "for user, values in tqdm(tracking.groupby([\"anon_id\"])):\n",
    "    dates = values[\"date\"].tolist()\n",
    "    # time between first and last date tracked\n",
    "    r = relativedelta.relativedelta(dates[-1], dates[0])\n",
    "    months = r.years * 12 + r.months\n",
    "    # number of cycles tracked\n",
    "    cycles_list = values[\"cycle_id\"].tolist()\n",
    "    if months > 6 and len(cycles_list) > 6:\n",
    "        users_to_keep.append(user)"
   ]
  },
  {
   "cell_type": "code",
   "execution_count": null,
   "metadata": {
    "id": "l_Q2-v5RBLMr"
   },
   "outputs": [],
   "source": [
    "tracking = tracking[tracking[\"anon_id\"].isin(users_to_keep)]\n",
    "tracking.shape"
   ]
  },
  {
   "cell_type": "code",
   "execution_count": null,
   "metadata": {
    "id": "x5EUH7W2BLMs"
   },
   "outputs": [],
   "source": [
    "users = users[users[\"anon_id\"].isin(users_to_keep)]\n",
    "users.shape"
   ]
  },
  {
   "cell_type": "code",
   "execution_count": null,
   "metadata": {
    "id": "EfGkoFFyBLMt"
   },
   "outputs": [],
   "source": [
    "cycles = cycles[cycles[\"anon_id\"].isin(users_to_keep)]\n",
    "cycles.shape"
   ]
  },
  {
   "cell_type": "code",
   "execution_count": null,
   "metadata": {
    "id": "DHjWtJDqBLMu"
   },
   "outputs": [],
   "source": [
    "birth_control = birth_control[birth_control[\"anon_id\"].isin(users_to_keep)]\n",
    "birth_control.shape"
   ]
  },
  {
   "cell_type": "markdown",
   "metadata": {
    "id": "6AxE8HiIBLMu"
   },
   "source": [
    "## 3. Filter out users who only track their period"
   ]
  },
  {
   "cell_type": "code",
   "execution_count": null,
   "metadata": {
    "id": "Os8bLnqrBLMv"
   },
   "outputs": [],
   "source": [
    "no_period_only_users = tracking[tracking[\"category\"] != \"period\"][\"anon_id\"].unique()"
   ]
  },
  {
   "cell_type": "code",
   "execution_count": null,
   "metadata": {
    "id": "28Q8_Zq-BLMx"
   },
   "outputs": [],
   "source": [
    "tracking = tracking[tracking[\"anon_id\"].isin(no_period_only_users)]\n",
    "tracking.shape"
   ]
  },
  {
   "cell_type": "code",
   "execution_count": null,
   "metadata": {
    "id": "HI4cssI0BLMy"
   },
   "outputs": [],
   "source": [
    "users = users[users[\"anon_id\"].isin(no_period_only_users)]\n",
    "users.shape"
   ]
  },
  {
   "cell_type": "code",
   "execution_count": null,
   "metadata": {
    "id": "hwyl6IgPBLM0"
   },
   "outputs": [],
   "source": [
    "cycles = cycles[cycles[\"anon_id\"].isin(no_period_only_users)]\n",
    "cycles.shape"
   ]
  },
  {
   "cell_type": "code",
   "execution_count": null,
   "metadata": {
    "id": "Rn_JgqJbBLM0"
   },
   "outputs": [],
   "source": [
    "birth_control = birth_control[birth_control[\"anon_id\"].isin(no_period_only_users)]\n",
    "birth_control.shape"
   ]
  },
  {
   "cell_type": "markdown",
   "metadata": {
    "id": "kcCsr_e6BLM0"
   },
   "source": [
    "## 4. Birth control simplification + re-assignment"
   ]
  },
  {
   "cell_type": "markdown",
   "metadata": {
    "id": "vn284CLKBLM1"
   },
   "source": [
    "We simplify birth control methods and group them to one of the 4 classes: **ON**, **OFF**, **OTHER-hormonal**, and **OTHER-non-hormonal** according to:\n",
    "\n",
    "\n",
    "| Birth Control Method | Class Label | \n",
    "| --- | --- | \n",
    "| Pill combined alternating | **ON** |\n",
    "| None | **OFF** |\n",
    "| IUD, injection, implant, <br> vaginal ring, patch, <br> pill combined continuous, <br> pill minipill alternating | **OTHER-Hormonal** |\n",
    "| condoms, <br> fertility awareness method (FAM) | **OTHER-Non-Hormonal** |\n",
    "\n",
    "\n",
    "Here, our main birth control method of interest is *Pill combined alternating*, specified as **ON**"
   ]
  },
  {
   "cell_type": "code",
   "execution_count": null,
   "metadata": {
    "id": "yAgLL697BLM2"
   },
   "outputs": [],
   "source": [
    "def get_bc_labels(bc_type, pill_type, intake_regimen):\n",
    "    # get output birth control labels: ON, OFF, OTHER-hormonal, and OTHER-non-hormonal\n",
    "    if bc_type == \"pill\" and pill_type == \"combined\" and intake_regimen == \"alternating\":\n",
    "        new_label = \"ON\"\n",
    "    elif bc_type == \"pill\" and pill_type == \"\" and intake_regimen == \"alternating\":\n",
    "        new_label = \"ON\"\n",
    "    elif bc_type == \"pill\" and pill_type == \"\" and intake_regimen == \"\":\n",
    "        new_label = \"ON\"\n",
    "    elif bc_type == \"none\":\n",
    "        new_label = \"OFF\"\n",
    "    elif bc_type in [\"condoms\", \"fertility_awareness_method\"]:\n",
    "        new_label = \"OTHER-NH\"\n",
    "    elif bc_type in [\"IUD\", \"injection\", \"implant\", \"vaginal_ring\", \"patch\"] or \\\n",
    "        (bc_type == \"pill\" and pill_type == \"combined\" and intake_regimen == \"continuous\") or \\\n",
    "        (bc_type == \"pill\" and pill_type == \"minipill\" and intake_regimen == \"continuous\"):\n",
    "        new_label = \"OTHER-H\"\n",
    "    else:\n",
    "        new_label = \"NA\"\n",
    "        \n",
    "    return new_label"
   ]
  },
  {
   "cell_type": "code",
   "execution_count": null,
   "metadata": {},
   "outputs": [],
   "source": [
    "birth_control[\"bc_label\"] = birth_control.apply(lambda x: get_bc_labels(x[\"type\"], x[\"pill_type\"], x[\"intake_regimen\"]), axis=1)"
   ]
  },
  {
   "cell_type": "code",
   "execution_count": null,
   "metadata": {
    "id": "9qWFKByWBLM4"
   },
   "outputs": [],
   "source": [
    "# remove users that only have \"NA\" BC label\n",
    "birth_control = birth_control[birth_control[\"bc_label\"] != \"NA\"]"
   ]
  },
  {
   "cell_type": "code",
   "execution_count": null,
   "metadata": {
    "id": "kl9o3oFlBLM4"
   },
   "outputs": [],
   "source": [
    "birth_control[\"bc_label\"].value_counts(normalize=True) * 100"
   ]
  },
  {
   "cell_type": "code",
   "execution_count": null,
   "metadata": {
    "id": "Hub6Vhr-BLM5"
   },
   "outputs": [],
   "source": [
    "users_to_keep = birth_control[\"anon_id\"].unique()"
   ]
  },
  {
   "cell_type": "code",
   "execution_count": null,
   "metadata": {
    "id": "Lfn2h-IFBLM7"
   },
   "outputs": [],
   "source": [
    "users = users[users[\"anon_id\"].isin(users_to_keep)]\n",
    "users.shape"
   ]
  },
  {
   "cell_type": "code",
   "execution_count": null,
   "metadata": {
    "id": "Wbhz9u43BLM7"
   },
   "outputs": [],
   "source": [
    "cycles = cycles[cycles[\"anon_id\"].isin(users_to_keep)]\n",
    "cycles.shape"
   ]
  },
  {
   "cell_type": "code",
   "execution_count": null,
   "metadata": {
    "id": "7yhcUIYzBLM8"
   },
   "outputs": [],
   "source": [
    "tracking = tracking[tracking[\"anon_id\"].isin(users_to_keep)]\n",
    "tracking.shape"
   ]
  },
  {
   "cell_type": "markdown",
   "metadata": {
    "id": "Kl3nJaIfBLM8"
   },
   "source": [
    "## 5. Users that have at least 3 cycles that are on the birth control method of interest (ON)"
   ]
  },
  {
   "cell_type": "code",
   "execution_count": null,
   "metadata": {
    "id": "G_NbL3SzBLM8"
   },
   "outputs": [],
   "source": [
    "# users that were ever on the birth control \"ON\"\n",
    "users_bc_ON = birth_control[birth_control[\"bc_label\"] == \"ON\"][\"anon_id\"].tolist()"
   ]
  },
  {
   "cell_type": "code",
   "execution_count": null,
   "metadata": {
    "id": "MMFnm-FPBLM9"
   },
   "outputs": [],
   "source": [
    "birth_control = birth_control[birth_control[\"anon_id\"].isin(users_bc_ON)]\n",
    "birth_control.shape"
   ]
  },
  {
   "cell_type": "code",
   "execution_count": null,
   "metadata": {
    "id": "6xeKJCApBLM9"
   },
   "outputs": [],
   "source": [
    "users = users[users[\"anon_id\"].isin(users_bc_ON)]\n",
    "users.shape"
   ]
  },
  {
   "cell_type": "code",
   "execution_count": null,
   "metadata": {
    "id": "T5D9uJWkBLM_"
   },
   "outputs": [],
   "source": [
    "tracking = tracking[tracking[\"anon_id\"].isin(users_bc_ON)]\n",
    "tracking.shape"
   ]
  },
  {
   "cell_type": "code",
   "execution_count": null,
   "metadata": {
    "id": "ykL81N1YBLM_"
   },
   "outputs": [],
   "source": [
    "cycles = cycles[cycles[\"anon_id\"].isin(users_bc_ON)]\n",
    "cycles.shape"
   ]
  },
  {
   "cell_type": "markdown",
   "metadata": {
    "id": "GhtGPzWyBLNA"
   },
   "source": [
    "### Label the time series as ON/OFF/OTHER-NH/OTHER-H"
   ]
  },
  {
   "cell_type": "markdown",
   "metadata": {
    "id": "xv4OVspQBLNA"
   },
   "source": [
    "Let's map the birth controls to the tracking table"
   ]
  },
  {
   "cell_type": "code",
   "execution_count": null,
   "metadata": {
    "id": "Y0bXd6SKBLNA"
   },
   "outputs": [],
   "source": [
    "def add_BC_end_dates(birth_control):\n",
    "    birth_control = birth_control.sort_values([\"anon_id\", \"date\"], ascending=True)\n",
    "    BC_end_dates = list()\n",
    "    for i, values in enumerate(tqdm(birth_control.groupby(\"anon_id\")[\"date\"])):\n",
    "        BC_end_date_list = values[1].tolist()[1:]\n",
    "        # arbitrary end date for last BC, or can add last date of the tracking dataset as the end of the BC \n",
    "        BC_end_date_list.append(date.today())\n",
    "        BC_end_dates += BC_end_date_list\n",
    "    BC_end_dates = [date - timedelta(days=1) for date in BC_end_dates]\n",
    "    birth_control[\"BC_end_date\"] = BC_end_dates\n",
    "    return birth_control"
   ]
  },
  {
   "cell_type": "code",
   "execution_count": null,
   "metadata": {
    "id": "0wRskbd4BLNA",
    "scrolled": true
   },
   "outputs": [],
   "source": [
    "birth_control = add_BC_end_dates(birth_control)"
   ]
  },
  {
   "cell_type": "markdown",
   "metadata": {
    "id": "i2dcilyUBLNA"
   },
   "source": [
    "Fix birth control end dates"
   ]
  },
  {
   "cell_type": "code",
   "execution_count": null,
   "metadata": {
    "id": "M5keAT7cBLNB"
   },
   "outputs": [],
   "source": [
    "def zero_runs(a):\n",
    "    iszero = np.concatenate(([0], np.equal(a, 0).view(np.int8), [0]))\n",
    "    absdiff = np.abs(np.diff(iszero))\n",
    "    ranges = np.where(absdiff == 1)[0].reshape(-1, 2)\n",
    "    return ranges"
   ]
  },
  {
   "cell_type": "code",
   "execution_count": null,
   "metadata": {
    "id": "LoteHK1PBLNB"
   },
   "outputs": [],
   "source": [
    "map_bc_labels_to_int = {\"OFF\": 0, \"ON\": 1, \"OTHER-H\": 2, \"OTHER-NH\": 3}"
   ]
  },
  {
   "cell_type": "code",
   "execution_count": null,
   "metadata": {
    "id": "nzWpumBaBLNB",
    "scrolled": true
   },
   "outputs": [],
   "source": [
    "BC_end_dates_list = []\n",
    "for i, values in enumerate(tqdm(birth_control.sort_values([\"anon_id\", \"date\"]).groupby(\"anon_id\"))):\n",
    "    BC_labels = values[1][\"bc_label\"].tolist()\n",
    "    BC_end_dates = values[1][\"BC_end_date\"].tolist()\n",
    "    BC_labels_int = [map_bc_labels_to_int[x] for x in BC_labels]\n",
    "    runs = zero_runs(np.diff(BC_labels_int))\n",
    "    if runs.shape[0] != 0:\n",
    "        for consec_group in runs:\n",
    "            begin_idx = consec_group[0]\n",
    "            end_idx = consec_group[-1]\n",
    "            correct_end_date = BC_end_dates[end_idx]\n",
    "            for j in range(begin_idx, end_idx + 1):\n",
    "                BC_end_dates[j] = correct_end_date\n",
    "        BC_end_dates_list.extend(BC_end_dates)\n",
    "    else:\n",
    "        BC_end_dates_list.extend(BC_end_dates)"
   ]
  },
  {
   "cell_type": "code",
   "execution_count": null,
   "metadata": {
    "id": "M8bL1d6qBLNC"
   },
   "outputs": [],
   "source": [
    "birth_control[\"BC_end_date_new\"] = BC_end_dates_list"
   ]
  },
  {
   "cell_type": "code",
   "execution_count": null,
   "metadata": {
    "id": "8a70OTIJBLNC"
   },
   "outputs": [],
   "source": [
    "filtered_birth_control = birth_control.sort_values([\"anon_id\", \"date\"]).drop_duplicates([\"anon_id\", \"bc_label\", \"BC_end_date_new\"])"
   ]
  },
  {
   "cell_type": "code",
   "execution_count": null,
   "metadata": {
    "id": "uB8C8HA5BLNC"
   },
   "outputs": [],
   "source": [
    "filtered_birth_control[\"BC_end_date_new\"] = pd.to_datetime(filtered_birth_control[\"BC_end_date_new\"])\n",
    "filtered_birth_control[\"BC_end_date_new\"] = filtered_birth_control[\"BC_end_date_new\"].dt.date"
   ]
  },
  {
   "cell_type": "code",
   "execution_count": null,
   "metadata": {
    "id": "KEJ4syrxBLNC"
   },
   "outputs": [],
   "source": [
    "def create_birth_control_mapper(birth_controls):\n",
    "    BC_mapper = defaultdict(dict)\n",
    "    for i, values in enumerate(tqdm(birth_controls.sort_values([\"anon_id\", \"date\"]).groupby(\"anon_id\"))):\n",
    "        user = values[0]\n",
    "        BC_starts = values[1][\"date\"]\n",
    "        BC_label = values[1][\"bc_label\"]\n",
    "        BC_end_dates = values[1][\"BC_end_date_new\"]\n",
    "        for j, (start, BC, end) in enumerate(zip(BC_starts, BC_label, BC_end_dates)):\n",
    "            date_range = [x for x in daterange(start, end)]\n",
    "            BC_mapper[user][tuple(date_range)] = BC\n",
    "    return BC_mapper"
   ]
  },
  {
   "cell_type": "code",
   "execution_count": null,
   "metadata": {
    "id": "EiAIpYypBLNC",
    "scrolled": true
   },
   "outputs": [],
   "source": [
    "BC_mapper = create_birth_control_mapper(birth_control)"
   ]
  },
  {
   "cell_type": "code",
   "execution_count": null,
   "metadata": {
    "id": "BC5Ql67vBLND"
   },
   "outputs": [],
   "source": [
    "tracking = tracking[tracking[\"anon_id\"].isin(birth_control[\"anon_id\"].unique())]"
   ]
  },
  {
   "cell_type": "code",
   "execution_count": null,
   "metadata": {
    "id": "XkKcc2hpBLNE"
   },
   "outputs": [],
   "source": [
    "def map_dates_to_BC(user, date):\n",
    "    # add dates from start to end of being on a BC method\n",
    "    BC = 0\n",
    "    for key in BC_mapper[user].keys():\n",
    "        if date in key:\n",
    "            BC = BC_mapper[user][key]  \n",
    "            return BC\n",
    "        else:\n",
    "            continue\n",
    "\n",
    "    if BC == 0:\n",
    "        return \"no valid BC\""
   ]
  },
  {
   "cell_type": "code",
   "execution_count": null,
   "metadata": {},
   "outputs": [],
   "source": [
    "tracking[\"birth_control\"] = tracking.apply(lambda x: map_dates_to_BC(x[\"anon_id\"], x[\"date\"]), axis=1)\n",
    "tracking = tracking[tracking[\"birth_control\"] != \"no valid BC\"]"
   ]
  },
  {
   "cell_type": "code",
   "execution_count": null,
   "metadata": {
    "id": "v9LbDUVHBLNG"
   },
   "outputs": [],
   "source": [
    "users_to_keep = tracking[\"anon_id\"].unique().tolist()"
   ]
  },
  {
   "cell_type": "code",
   "execution_count": null,
   "metadata": {
    "id": "OvAtimRHBLNG"
   },
   "outputs": [],
   "source": [
    "users = users[users[\"anon_id\"].isin(users_to_keep)]\n",
    "users.shape"
   ]
  },
  {
   "cell_type": "code",
   "execution_count": null,
   "metadata": {
    "id": "Pda-1IwKBLNH"
   },
   "outputs": [],
   "source": [
    "birth_control = birth_control[birth_control[\"anon_id\"].isin(users_to_keep)]\n",
    "birth_control.shape"
   ]
  },
  {
   "cell_type": "code",
   "execution_count": null,
   "metadata": {
    "id": "Jmq4TXJnBLNH"
   },
   "outputs": [],
   "source": [
    "cycles = cycles[cycles[\"anon_id\"].isin(users_to_keep)]\n",
    "cycles.shape"
   ]
  },
  {
   "cell_type": "code",
   "execution_count": null,
   "metadata": {
    "id": "u3QCvkGhBLNI"
   },
   "outputs": [],
   "source": [
    "cycle_BC_set_dict = dict()\n",
    "for user in tqdm(tracking[\"anon_id\"].unique()):\n",
    "    cycle_BC_set_dict[user] = dict()\n",
    "    \n",
    "for cycle, bc_values in tracking.groupby(\"cycle_id\")[\"birth_control\"]:\n",
    "    bc_values = bc_values.values.tolist()\n",
    "    bc_values = list(set(bc_values))\n",
    "    user_cycle = cycle.split(\"_\")\n",
    "    user = user_cycle[0]\n",
    "    cycle = int(user_cycle[1])\n",
    "    cycle_BC_set_dict[user][cycle] = bc_values"
   ]
  },
  {
   "cell_type": "code",
   "execution_count": null,
   "metadata": {
    "id": "i96DNTCQBLNI"
   },
   "outputs": [],
   "source": [
    "users_to_keep = []\n",
    "user_cycles_ON_dict = dict()\n",
    "for user, values in cycle_BC_set_dict.items():\n",
    "    cycles_list = [cycle for cycle, v in values.items() if v == ['ON']]\n",
    "    cycles_list.sort()\n",
    "    consec_cycles_list = [list(group) for group in mit.consecutive_groups(cycles_list)]\n",
    "    consec_cycles_list_3_or_more = [x for x in consec_cycles_list if len(x) > 3]\n",
    "    if len(consec_cycles_list_3_or_more) > 0:\n",
    "        users_to_keep.append(user) "
   ]
  },
  {
   "cell_type": "code",
   "execution_count": null,
   "metadata": {
    "id": "aONtwwzMBLNI"
   },
   "outputs": [],
   "source": [
    "birth_control = birth_control[birth_control[\"anon_id\"].isin(users_to_keep)]\n",
    "birth_control.shape"
   ]
  },
  {
   "cell_type": "code",
   "execution_count": null,
   "metadata": {
    "id": "JkPfNe9aBLNJ"
   },
   "outputs": [],
   "source": [
    "users = users[users[\"anon_id\"].isin(users_to_keep)]\n",
    "users.shape"
   ]
  },
  {
   "cell_type": "code",
   "execution_count": null,
   "metadata": {
    "id": "7pksOU95BLNM"
   },
   "outputs": [],
   "source": [
    "tracking = tracking[tracking[\"anon_id\"].isin(users_to_keep)]\n",
    "tracking = tracking[tracking[\"birth_control\"] != 'no valid BC']\n",
    "tracking.shape"
   ]
  },
  {
   "cell_type": "code",
   "execution_count": null,
   "metadata": {
    "id": "4XJ5I0tiBLNN"
   },
   "outputs": [],
   "source": [
    "cycles = cycles[cycles[\"anon_id\"].isin(users_to_keep)]\n",
    "cycles.shape"
   ]
  },
  {
   "cell_type": "markdown",
   "metadata": {
    "id": "i3Utjq4EBLNV"
   },
   "source": [
    "## 6. Detect stable transitions"
   ]
  },
  {
   "cell_type": "markdown",
   "metadata": {
    "id": "nt2k06swBLNV"
   },
   "source": [
    "Determine whether a user has switched to another birth control method, and has stayed on this new birth control method for at least 90 days. This is considered to be a stable transition. If the three cycles before this stable transition were completely on the birth control method (ON), we keep this time series."
   ]
  },
  {
   "cell_type": "code",
   "execution_count": null,
   "metadata": {
    "id": "Q20kpSw5BLNV"
   },
   "outputs": [],
   "source": [
    "birth_control[\"BC_end_date_new\"] = pd.to_datetime(birth_control[\"BC_end_date_new\"])\n",
    "birth_control[\"BC_end_date_new\"] = birth_control[\"BC_end_date_new\"].dt.date"
   ]
  },
  {
   "cell_type": "code",
   "execution_count": null,
   "metadata": {
    "id": "lguiykveBLNW"
   },
   "outputs": [],
   "source": [
    "birth_control = birth_control.sort_values([\"anon_id\", \"date\"]).drop_duplicates([\"anon_id\", \"bc_label\", \"BC_end_date_new\"])"
   ]
  },
  {
   "cell_type": "code",
   "execution_count": null,
   "metadata": {
    "id": "ViZGB9PABLNW"
   },
   "outputs": [],
   "source": [
    "user_BC_dict = dict()\n",
    "for user, bc_values in birth_control.groupby(\"anon_id\")[\"bc_label\"]:\n",
    "    bc_values = bc_values.values.tolist()\n",
    "    bc_values = list(set(bc_values))\n",
    "    user_BC_dict[user] = bc_values "
   ]
  },
  {
   "cell_type": "code",
   "execution_count": null,
   "metadata": {
    "id": "qGz0iI38BLNX"
   },
   "outputs": [],
   "source": [
    "users_BC_change = [user for user, bc in user_BC_dict.items() if len(bc) > 1]"
   ]
  },
  {
   "cell_type": "code",
   "execution_count": null,
   "metadata": {
    "id": "UySfY-hJBLNY"
   },
   "outputs": [],
   "source": [
    "users_without_BC_change = birth_control[~birth_control[\"anon_id\"].isin(users_BC_change)]\n",
    "users_with_BC_change = birth_control[birth_control[\"anon_id\"].isin(users_BC_change)]"
   ]
  },
  {
   "cell_type": "code",
   "execution_count": null,
   "metadata": {
    "id": "Qd-AXUaPBLNa"
   },
   "outputs": [],
   "source": [
    "users_with_BC_change[\"time_on_BC\"] = users_with_BC_change.apply(lambda x: (x[\"BC_end_date_new\"] - x[\"date\"]).days, axis=1)"
   ]
  },
  {
   "cell_type": "code",
   "execution_count": null,
   "metadata": {
    "id": "_o4yj6x9BLNa"
   },
   "outputs": [],
   "source": [
    "#drop first BC\n",
    "users_with_stable_transitions = users_with_BC_change.groupby(\"anon_id\", as_index=False).apply(lambda x: x.iloc[1:]).reset_index(drop=True)"
   ]
  },
  {
   "cell_type": "code",
   "execution_count": null,
   "metadata": {
    "id": "IwEA-Mf8BLNa"
   },
   "outputs": [],
   "source": [
    "# users that switch to a birth control method for at least 90 days that is not ON\n",
    "users_with_stable_transitions = users_with_BC_change[users_with_BC_change[\"time_on_BC\"] >= 90]\n",
    "users_with_stable_transitions = users_with_stable_transitions[users_with_stable_transitions[\"bc_label\"] != \"ON\"]"
   ]
  },
  {
   "cell_type": "code",
   "execution_count": null,
   "metadata": {
    "id": "5JFjGEo5BLNc"
   },
   "outputs": [],
   "source": [
    "users_with_BC_change = users_with_BC_change[users_with_BC_change[\"anon_id\"].isin(users_with_stable_transitions[\"anon_id\"].tolist())]\n",
    "users_with_BC_change = users_with_BC_change.sort_values(by=[\"anon_id\", \"date\"])"
   ]
  },
  {
   "cell_type": "code",
   "execution_count": null,
   "metadata": {
    "id": "-1e6mBwhBLNc"
   },
   "outputs": [],
   "source": [
    "stable_transitions_bools = []\n",
    "for user, v in users_with_BC_change.groupby(\"anon_id\"):\n",
    "    bc_values = v[\"bc_label\"].values.tolist()\n",
    "    time_values = v[\"time_on_BC\"].values.tolist()\n",
    "    stable_transition_bool = [\"bc_transition\" if (i > 0 and x >= 90 and bc_values[i - 1] == \"ON\") else \"bc_ON\" if (i != len(time_values) - 1 and time_values[i + 1] >= 90 and bc_values[i] == \"ON\" and bc_values[i + 1] != \"ON\") else False for i, x in enumerate(time_values)]\n",
    "    stable_transitions_bools += stable_transition_bool"
   ]
  },
  {
   "cell_type": "code",
   "execution_count": null,
   "metadata": {
    "id": "SwXuJknuBLNd"
   },
   "outputs": [],
   "source": [
    "users_with_BC_change[\"stable_transition_bool\"] = stable_transitions_bools\n",
    "users_with_stable_transitions = users_with_BC_change[users_with_BC_change[\"stable_transition_bool\"].isin([\"bc_transition\", \"bc_ON\"])]"
   ]
  },
  {
   "cell_type": "code",
   "execution_count": null,
   "metadata": {
    "id": "QJoIWTTwBLNf"
   },
   "outputs": [],
   "source": [
    "transition_ids = []\n",
    "for anon, values in users_with_stable_transitions.groupby(\"anon_id\"):\n",
    "    bc_values = values[\"bc_label\"].tolist()\n",
    "    BC_end_date_list = values[\"BC_end_date_new\"].tolist()\n",
    "    BC_start_date_list = values[\"date\"].tolist()\n",
    "    i = 0\n",
    "    t_group = 0\n",
    "    for x, y in zip(*[iter(bc_values)]*2):\n",
    "        if x == \"ON\" and y != \"ON\" and (BC_end_date_list[i] + timedelta(1) == BC_start_date_list[i + 1]):\n",
    "            t_id = anon + str(t_group)\n",
    "            transition_ids += [t_id, t_id] \n",
    "        else:\n",
    "            to_keep += [False, False]\n",
    "            transition_ids += [0, 0] \n",
    "        t_group += 1\n",
    "        i += 2"
   ]
  },
  {
   "cell_type": "code",
   "execution_count": null,
   "metadata": {
    "id": "8Wh35HMUBLNf"
   },
   "outputs": [],
   "source": [
    "users_with_stable_transitions[\"transition_id\"] = transition_ids"
   ]
  },
  {
   "cell_type": "code",
   "execution_count": null,
   "metadata": {
    "id": "UHnucKASBLNg"
   },
   "outputs": [],
   "source": [
    "users_with_stable_transitions_ON = users_with_stable_transitions[users_with_stable_transitions[\"stable_transition_bool\"] == \"bc_ON\"]\n",
    "users_with_stable_transitions_ON = users_with_stable_transitions_ON[users_with_stable_transitions_ON[\"time_on_BC\"] > 30]"
   ]
  },
  {
   "cell_type": "code",
   "execution_count": null,
   "metadata": {
    "id": "WkZQilkpBLNi"
   },
   "outputs": [],
   "source": [
    "def get_cycles_ON(user, start_date, end_date):\n",
    "    cycles_ON = cycles[(cycles[\"anon_id\"] == user) & (cycles[\"cycle_start\"] >= start_date) & (cycles[\"cycle_end\"] <= end_date)][\"unique_cycle_id\"].tolist()\n",
    "    return cycles_ON"
   ]
  },
  {
   "cell_type": "code",
   "execution_count": null,
   "metadata": {
    "id": "btu8xdSJBLNj"
   },
   "outputs": [],
   "source": [
    "users_with_stable_transitions_ON_dict = users_with_stable_transitions_ON[[\"transition_id\", \"anon_id\", \"date\", \"BC_end_date_new\"]].to_dict('index')"
   ]
  },
  {
   "cell_type": "code",
   "execution_count": null,
   "metadata": {
    "id": "epG6XHKsBLNj",
    "scrolled": true
   },
   "outputs": [],
   "source": [
    "cycles_ON_dict = {v[\"transition_id\"]: get_cycles_ON(v[\"anon_id\"], v[\"date\"], v[\"BC_end_date_new\"])for k, v in tqdm(users_with_stable_transitions_ON_dict.items())}"
   ]
  },
  {
   "cell_type": "code",
   "execution_count": null,
   "metadata": {
    "id": "Pgn8wpWFBLNk"
   },
   "outputs": [],
   "source": [
    "users_with_stable_transitions_ON[\"len_cycles_ON\"] = users_with_stable_transitions_ON[\"transition_id\"].apply(lambda x: len(cycles_ON_dict[x]))\n",
    "users_with_stable_transitions_ON[\"cycles_ON\"] = users_with_stable_transitions_ON[\"transition_id\"].apply(lambda x: cycles_ON_dict[x])\n",
    "users_with_stable_transitions_ON[\"cycles_ON\"] = users_with_stable_transitions_ON[\"cycles_ON\"].apply(lambda x: [int(c.split(\"_\")[1]) for c in x])\n",
    "users_with_stable_transitions_ON[\"cycles_ON\"].apply(lambda x: x.sort())\n",
    "users_with_stable_transitions_ON[\"last_3_cycles_ON\"] = users_with_stable_transitions_ON[\"cycles_ON\"].apply(lambda x: x[-3:])"
   ]
  },
  {
   "cell_type": "code",
   "execution_count": null,
   "metadata": {
    "id": "GCTEMqOYBLNl"
   },
   "outputs": [],
   "source": [
    "def get_cycle_ids(anon_id, cycle_num_list):\n",
    "    return [anon_id + \"_\" + str(c) for c in cycle_num_list]"
   ]
  },
  {
   "cell_type": "code",
   "execution_count": null,
   "metadata": {
    "id": "-Om9OX2eBLNm"
   },
   "outputs": [],
   "source": [
    "users_with_stable_transitions_ON[\"last_3_cycles_ON\"] = users_with_stable_transitions_ON.apply(lambda x: get_cycle_ids(x[\"anon_id\"], x[\"last_3_cycles_ON\"]), axis=1)"
   ]
  },
  {
   "cell_type": "code",
   "execution_count": null,
   "metadata": {
    "id": "Ms8MJd4IBLNm"
   },
   "outputs": [],
   "source": [
    "def bool_3_cycles_ON(user, three_cycles):\n",
    "    final_3_cycles = []\n",
    "    for c in three_cycles:\n",
    "        if cycle_BC_set_dict[user][c] == {\"ON\"}:\n",
    "            final_3_cycles.append(c)\n",
    "    return final_3_cycles"
   ]
  },
  {
   "cell_type": "code",
   "execution_count": null,
   "metadata": {
    "id": "RciK9XE_BLNm"
   },
   "outputs": [],
   "source": [
    "users_with_stable_transitions_ON[\"last_cycles_ON\"] = users_with_stable_transitions_ON.apply(lambda x: bool_3_cycles_ON(x[\"anon_id\"], x[\"last_3_cycles_ON\"]), axis=1)\n",
    "users_with_stable_transitions_ON[\"len_last_cycles_ON\"] = users_with_stable_transitions_ON[\"last_cycles_ON\"].apply(lambda x: len(x))"
   ]
  },
  {
   "cell_type": "code",
   "execution_count": null,
   "metadata": {
    "id": "-OHjGmzRBLNm"
   },
   "outputs": [],
   "source": [
    "final_users_with_stable_transitions_ON = users_with_stable_transitions_ON[users_with_stable_transitions_ON[\"len_last_cycles_ON\"] == 3]\n",
    "users_with_stable_transitions = users_with_stable_transitions[users_with_stable_transitions[\"transition_id\"].isin(final_users_with_stable_transitions_ON[\"transition_id\"].unique())]\n",
    "users_with_stable_transitions[\"date_range\"] = users_with_stable_transitions.apply(lambda x: [d for d in daterange(x[\"date\"], x[\"BC_end_date_new\"])], axis=1)"
   ]
  },
  {
   "cell_type": "code",
   "execution_count": null,
   "metadata": {
    "id": "s9T0CQa8BLNn"
   },
   "outputs": [],
   "source": [
    "def map_dates_to_BC(user, date):\n",
    "    BC = 0\n",
    "    for key in BC_mapper[user].keys():\n",
    "        if date in key:\n",
    "            BC = BC_mapper[user][key]  \n",
    "            return BC\n",
    "        else:\n",
    "            continue\n",
    "\n",
    "    if BC == 0:\n",
    "        return \"no valid BC\""
   ]
  },
  {
   "cell_type": "code",
   "execution_count": null,
   "metadata": {
    "id": "2tbtRs0IBLNo"
   },
   "outputs": [],
   "source": [
    "def cycle_BC_set(cycles):\n",
    "    cycle_id_mapper = defaultdict(dict)\n",
    "    for i, values in enumerate(tqdm(cycles.groupby(\"anon_id\"))):\n",
    "        user = values[0]\n",
    "        cycle_starts = values[1][\"cycle_start\"]\n",
    "        cycle_ids = values[1][\"unique_cycle_id\"]\n",
    "        cycle_end_dates = values[1][\"cycle_end\"]\n",
    "        for j, (start, ID, end) in enumerate(zip(cycle_starts, cycle_ids, cycle_end_dates)):\n",
    "            date_range = [x for x in daterange(start, end)]\n",
    "            BC_list = [map_dates_to_BC(user, x) for x in date_range]\n",
    "            cycle_id_mapper[user][ID] = set(BC_list)\n",
    "    return cycle_id_mapper"
   ]
  },
  {
   "cell_type": "code",
   "execution_count": null,
   "metadata": {
    "id": "qo6WnJalBLNo"
   },
   "outputs": [],
   "source": [
    "cycle_BC_set_dict = cycle_BC_set(cycles)"
   ]
  },
  {
   "cell_type": "code",
   "execution_count": null,
   "metadata": {
    "id": "aME4Wmc2BLNo"
   },
   "outputs": [],
   "source": [
    "def map_dates_to_cycles(user, dates):\n",
    "    ID_list = []\n",
    "    for date in dates:\n",
    "        ID = 0\n",
    "        for key in cycle_id_mapper[user].keys():\n",
    "            if date in key:\n",
    "                ID = cycle_id_mapper[user][key]  \n",
    "                ID_list.append(ID)\n",
    "            else:\n",
    "                continue\n",
    "\n",
    "        if ID == 0:\n",
    "            ID = \"no valid cycle_id\"\n",
    "            ID_list.append(ID)\n",
    "    return list(set(ID_list))"
   ]
  },
  {
   "cell_type": "code",
   "execution_count": null,
   "metadata": {
    "id": "Z3qy7L61BLNp"
   },
   "outputs": [],
   "source": [
    "users_with_stable_transitions_to_keep = users_with_stable_transitions[\"anon_id\"].unique()"
   ]
  },
  {
   "cell_type": "code",
   "execution_count": null,
   "metadata": {
    "id": "istQP3MVBLNp"
   },
   "outputs": [],
   "source": [
    "output_df_transition = users_with_stable_transitions[users_with_stable_transitions[\"bc_label\"] != \"ON\"]\n",
    "output_df_transition[\"cycles\"] = output_df_transition.apply(lambda x: map_dates_to_cycles(x[\"anon_id\"], x[\"date_range\"]), axis=1)"
   ]
  },
  {
   "cell_type": "code",
   "execution_count": null,
   "metadata": {
    "id": "A8p2BofiBLNr"
   },
   "outputs": [],
   "source": [
    "output_df_transition[\"cycle_count\"] = output_df_transition[\"cycles\"].apply(lambda x: len(x))\n",
    "output_df_transition = output_df_transition.rename(columns={\"date\": \"start_date_transition\", \"BC_end_date_new\": \"end_date_transition\", \"time_on_BC\": \"time_on_output_BC\", \"cycles\": \"output_cycles\", \"cycle_count\": \"cycle_count_output\", \"type\": \"type_output\", \"pill_type\": \"pill_type_output\", \"intake_regimen\": \"intake_regimen_output\", \"bc_label\": \"bc_label_out\"})\n",
    "output_df_transition = output_df_transition[[\"anon_id\", \"start_date_transition\", \"type_output\", \"pill_type_output\", \"intake_regimen_output\", \"bc_label_out\", \"end_date_transition\", \"time_on_output_BC\", \"output_cycles\", \"transition_id\"]]"
   ]
  },
  {
   "cell_type": "code",
   "execution_count": null,
   "metadata": {
    "id": "sLEzk6-fBLNq"
   },
   "outputs": [],
   "source": [
    "new_df = final_users_with_stable_transitions_ON[[\"anon_id\", \"date\", \"type\", \"pill_type\", \"intake_regimen\", \"bc_label\", \"BC_end_date_new\", \"last_cycles_ON\", \"transition_id\"]]\n",
    "new_df = new_df.rename(columns={\"date\": \"input_start_date\", \"bc_label\": \"bc_label_in\", \"BC_end_date_new\": \"end_date_ON\", \"last_cycles_ON\": \"input_cycles\", \"type\": \"type_input\", \"pill_type\": \"pill_type_input\", \"intake_regimen\": \"intake_regimen_input\"})"
   ]
  },
  {
   "cell_type": "code",
   "execution_count": null,
   "metadata": {
    "id": "1Fl4gB_RBLNu"
   },
   "outputs": [],
   "source": [
    "new_df = pd.merge(new_df, output_df_transition, how=\"left\", left_on=\"transition_id\", right_on=\"transition_id\")\n",
    "new_df = new_df.sort_values(by = [\"anon_id\", \"input_start_date\"])"
   ]
  },
  {
   "cell_type": "code",
   "execution_count": null,
   "metadata": {
    "id": "La1ng9_FBLNv"
   },
   "outputs": [],
   "source": [
    "# keep first transition\n",
    "new_df = new_df.groupby('anon_id').head(1)"
   ]
  },
  {
   "cell_type": "code",
   "execution_count": null,
   "metadata": {
    "id": "Gr-UtboNBLNw"
   },
   "outputs": [],
   "source": [
    "new_df[\"third_input_cycle\"] = new_df[\"input_cycles\"].apply(lambda x: x[-1])\n",
    "new_df = pd.merge(new_df, cycles[[\"cycle_end\", \"unique_cycle_id\"]], how=\"left\", left_on=\"third_input_cycle\", right_on=\"unique_cycle_id\")\n",
    "new_df = new_df.rename(columns={\"cycle_end\": \"third_cycle_end\"})"
   ]
  },
  {
   "cell_type": "code",
   "execution_count": null,
   "metadata": {
    "id": "nyYlcQnpBLNy"
   },
   "outputs": [],
   "source": [
    "users_without_BC_change[\"date_range\"] = users_without_BC_change.apply(lambda x: [d for d in daterange(x[\"date\"], x[\"BC_end_date_new\"])], axis=1)\n",
    "users_without_BC_change[\"cycles\"] = users_without_BC_change.apply(lambda x: map_dates_to_cycles(x[\"anon_id\"], x[\"date_range\"]), axis=1)\n",
    "users_without_BC_change[\"cycles\"] = users_without_BC_change[\"cycles\"].apply(lambda x: [c.split(\"_\")[1] for c in x])\n",
    "users_without_BC_change[\"cycles\"] = users_without_BC_change[\"cycles\"].apply(lambda x: [int(c) for c in x if c != \"id\"])\n",
    "users_without_BC_change[\"cycles\"].apply(lambda x: x.sort())"
   ]
  },
  {
   "cell_type": "code",
   "execution_count": null,
   "metadata": {
    "id": "hqU3_y5DBLOV"
   },
   "outputs": [],
   "source": [
    "users_without_BC_change[\"input_cycles\"] = users_without_BC_change[\"cycles\"].apply(lambda x: x[1:4])\n",
    "users_without_BC_change[\"input_cycles\"] = users_without_BC_change.apply(lambda x: get_cycle_ids(x[\"anon_id\"], x[\"input_cycles\"]), axis=1)"
   ]
  },
  {
   "cell_type": "code",
   "execution_count": null,
   "metadata": {
    "id": "eGlyX0JYBLOW"
   },
   "outputs": [],
   "source": [
    "users_without_BC_change[\"output_cycles\"] = users_without_BC_change[\"cycles\"].apply(lambda x: x[4:])\n",
    "users_without_BC_change[\"output_cycles\"] = users_without_BC_change.apply(lambda x: get_cycle_ids(x[\"anon_id\"], x[\"output_cycles\"]), axis=1)\n",
    "users_without_BC_change = users_without_BC_change.rename(columns={\"date\": \"input_start_date\", \"type\": \"type_input\", \"pill_type\": \"pill_type_input\", \"intake_regimen\":\"intake_regimen_input\", \"bc_label\": \"bc_label_in\", \"BC_end_date_new\": \"end_date_ON\", \"cycle_end\": \"start_date_transition\"})\n",
    "users_without_BC_change[\"third_input_cycle\"] = users_without_BC_change[\"input_cycles\"].apply(lambda x: x[-1])\n",
    "users_without_BC_change = pd.merge(users_without_BC_change, cycles[[\"cycle_end\", \"unique_cycle_id\"]], how=\"left\", left_on=\"third_input_cycle\", right_on=\"unique_cycle_id\")\n",
    "users_without_BC_change = users_without_BC_change[[\"anon_id\", \"input_start_date\", \"type_input\", \"pill_type_input\", \"intake_regimen_input\", \"bc_label_in\", \"end_date_ON\", \"start_date_transition\", \"input_cycles\", \"output_cycles\"]]"
   ]
  },
  {
   "cell_type": "code",
   "execution_count": null,
   "metadata": {
    "id": "mr9_q84JBLOa"
   },
   "outputs": [],
   "source": [
    "new_df[\"output_BC\"] = new_df.apply(lambda x: (x[\"type_output\"], x[\"pill_type_output\"], x[\"intake_regimen_output\"]), axis=1)\n",
    "new_df.drop([\"transition_id\", \"type_output\", \"pill_type_output\", \"intake_regimen_output\", \"unique_cycle_id\"], axis=1, inplace=True)"
   ]
  },
  {
   "cell_type": "code",
   "execution_count": null,
   "metadata": {
    "id": "JKv_A4cvBLOa"
   },
   "outputs": [],
   "source": [
    "users_without_BC_change[\"bc_label_out\"] = \"ON\"\n",
    "users_without_BC_change[\"output_BC\"] = \"ON\""
   ]
  },
  {
   "cell_type": "code",
   "execution_count": null,
   "metadata": {
    "id": "TqooHmU5BLOc"
   },
   "outputs": [],
   "source": [
    "users_without_BC_change[\"end_date_transition\"] = pd.to_datetime('now')\n",
    "users_without_BC_change[\"end_date_transition\"] = users_without_BC_change[\"end_date_transition\"].dt.date\n",
    "users_without_BC_change[\"time_on_output_BC\"] = -1\n",
    "users_without_BC_change[\"third_input_cycle\"] = users_without_BC_change[\"input_cycles\"].apply(lambda x: x[-1])"
   ]
  },
  {
   "cell_type": "code",
   "execution_count": null,
   "metadata": {
    "id": "HWtoI_XVBLOd"
   },
   "outputs": [],
   "source": [
    "# create final dataset\n",
    "dataset = pd.concat([new_df, users_without_BC_change])"
   ]
  },
  {
   "cell_type": "code",
   "execution_count": null,
   "metadata": {
    "id": "q827irNDBLOe"
   },
   "outputs": [],
   "source": [
    "all_input_cycles = [item for sublist in dataset[\"input_cycles\"].tolist() for item in sublist]\n",
    "all_output_cycles = [item for sublist in dataset[\"output_cycles\"].tolist() for item in sublist]\n",
    "all_final_cycles = all_input_cycles + all_output_cycles"
   ]
  },
  {
   "cell_type": "code",
   "execution_count": null,
   "metadata": {
    "id": "Xo6S6MtyBLOl"
   },
   "outputs": [],
   "source": [
    "final_users = dataset[\"anon_id\"].unique()"
   ]
  },
  {
   "cell_type": "code",
   "execution_count": null,
   "metadata": {
    "id": "Ng3oOnN3BLOm"
   },
   "outputs": [],
   "source": [
    "tracking = tracking[tracking[\"anon_id\"].isin(final_users)]\n",
    "tracking = tracking[tracking[\"cycle_id\"].isin(all_final_cycles)]\n",
    "tracking.shape"
   ]
  },
  {
   "cell_type": "code",
   "execution_count": null,
   "metadata": {
    "id": "2yHlRE9FBLOn"
   },
   "outputs": [],
   "source": [
    "users = users[users[\"anon_id\"].isin(final_users)]\n",
    "users.shape"
   ]
  },
  {
   "cell_type": "code",
   "execution_count": null,
   "metadata": {
    "id": "y6ZVye23BLOn"
   },
   "outputs": [],
   "source": [
    "cycles = cycles[cycles[\"anon_id\"].isin(final_users)]\n",
    "cycles.shape"
   ]
  },
  {
   "cell_type": "code",
   "execution_count": null,
   "metadata": {
    "id": "NMha3APBBLOn"
   },
   "outputs": [],
   "source": [
    "cycles = cycles[cycles[\"unique_cycle_id\"].isin(all_final_cycles)]\n",
    "cycles.shape"
   ]
  },
  {
   "cell_type": "markdown",
   "metadata": {
    "id": "Vjmf2bWqBLOo"
   },
   "source": [
    "## 7. Keep users that keep tracking ≥ 90 days after their birth control transition"
   ]
  },
  {
   "cell_type": "code",
   "execution_count": null,
   "metadata": {
    "id": "C0GSY747BLOo"
   },
   "outputs": [],
   "source": [
    "#check that filtered_tracking is sorted first\n",
    "tracking = tracking.sort_values([\"anon_id\", \"date\"], ascending=True)\n",
    "g = tracking.groupby(\"anon_id\")\n",
    "users_last_tracking = g.tail(1)"
   ]
  },
  {
   "cell_type": "code",
   "execution_count": null,
   "metadata": {
    "id": "hF_rh2lMBLOo"
   },
   "outputs": [],
   "source": [
    "dataset = pd.merge(dataset, users_last_tracking[[\"anon_id\", \"date\"]], how=\"left\", left_on=\"anon_id\", right_on=\"anon_id\")\n",
    "dataset = dataset.rename(columns={\"date\": \"final_tracked_date\"})"
   ]
  },
  {
   "cell_type": "code",
   "execution_count": null,
   "metadata": {
    "id": "bEp_ffzVBLOp"
   },
   "outputs": [],
   "source": [
    "def get_days_tracked_after_transition(final_tracked_date, start_date_transition):\n",
    "    return (final_tracked_date - start_date_transition).days"
   ]
  },
  {
   "cell_type": "code",
   "execution_count": null,
   "metadata": {},
   "outputs": [],
   "source": [
    "dataset[\"days_tracked_after_transition\"] = dataset.apply(lambda x: get_days_tracked_after_transition(x[\"final_tracked_date\"], x[\"start_date_transition\"]), axis=1)"
   ]
  },
  {
   "cell_type": "code",
   "execution_count": null,
   "metadata": {
    "id": "IGVlobBqBLOq"
   },
   "outputs": [],
   "source": [
    "dataset[\"final_tracked_date\"] = pd.to_datetime(dataset[\"final_tracked_date\"])\n",
    "dataset[\"final_tracked_date\"] = dataset[\"final_tracked_date\"].dt.date"
   ]
  },
  {
   "cell_type": "code",
   "execution_count": null,
   "metadata": {
    "id": "-ER9987hBLOq"
   },
   "outputs": [],
   "source": [
    "dataset = dataset[dataset[\"days_tracked_after_transition\"] >= 90]"
   ]
  },
  {
   "cell_type": "code",
   "execution_count": null,
   "metadata": {
    "id": "HhudVkrwBLOs"
   },
   "outputs": [],
   "source": [
    "dataset[\"bc_label_out\"].value_counts(normalize=True)*100"
   ]
  },
  {
   "cell_type": "code",
   "execution_count": null,
   "metadata": {
    "id": "qPHXaJiNBLOs"
   },
   "outputs": [],
   "source": [
    "final_users = dataset[\"anon_id\"].unique().tolist()"
   ]
  },
  {
   "cell_type": "code",
   "execution_count": null,
   "metadata": {
    "id": "autw5GHfBLOs"
   },
   "outputs": [],
   "source": [
    "users = users[users[\"anon_id\"].isin(final_users)]\n",
    "users.shape"
   ]
  },
  {
   "cell_type": "code",
   "execution_count": null,
   "metadata": {
    "id": "VfBWQql2BLOt"
   },
   "outputs": [],
   "source": [
    "cycles = cycles[cycles[\"anon_id\"].isin(final_users)]\n",
    "cycles.shape"
   ]
  },
  {
   "cell_type": "code",
   "execution_count": null,
   "metadata": {
    "id": "qYR7JBvRBLOt"
   },
   "outputs": [],
   "source": [
    "tracking = tracking[tracking[\"anon_id\"].isin(final_users)]\n",
    "tracking.shape"
   ]
  },
  {
   "cell_type": "markdown",
   "metadata": {
    "id": "r000rvzNBLOu"
   },
   "source": [
    "## add user-specific data"
   ]
  },
  {
   "cell_type": "code",
   "execution_count": null,
   "metadata": {
    "id": "FhLksUabBLOu"
   },
   "outputs": [],
   "source": [
    "dataset = pd.merge(dataset, users[[\"anon_id\", \"height\", \"weight\", \"last_country\", \"birth_year\"]], how=\"left\", left_on=\"anon_id\", right_on=\"anon_id\")"
   ]
  },
  {
   "cell_type": "markdown",
   "metadata": {
    "id": "szuGo1ZdBLOv"
   },
   "source": [
    "### BMI"
   ]
  },
  {
   "cell_type": "code",
   "execution_count": null,
   "metadata": {
    "id": "8iTRl7CsBLOv"
   },
   "outputs": [],
   "source": [
    "def get_average_height_weight(h_w):\n",
    "    if isinstance(h_w, str):\n",
    "        if \"-\" in h_w:\n",
    "            lim = h_w.split(\"-\")\n",
    "            min_ = int(lim[0])\n",
    "            max_ = int(lim[1])\n",
    "            avg = int((min_ + max_) / 2)\n",
    "        elif \"<\" in h_w:\n",
    "            avg = int(h_w.split(\"<\")[1]) \n",
    "        elif \">=\" in h_w:\n",
    "            avg = int(h_w.split(\">=\")[1])\n",
    "    elif np.isnan(h_w):\n",
    "        avg = np.nan\n",
    "    return avg"
   ]
  },
  {
   "cell_type": "code",
   "execution_count": null,
   "metadata": {
    "id": "ddn7i-oXBLOv"
   },
   "outputs": [],
   "source": [
    "dataset[\"height\"] = dataset[\"height\"].apply(lambda x: get_average_height_weight(x))\n",
    "dataset[\"height\"] = dataset[\"height\"] / 100"
   ]
  },
  {
   "cell_type": "code",
   "execution_count": null,
   "metadata": {
    "id": "4antUKkiBLOv"
   },
   "outputs": [],
   "source": [
    "dataset[\"weight\"] = dataset[\"weight\"].apply(lambda x: get_average_height_weight(x))"
   ]
  },
  {
   "cell_type": "code",
   "execution_count": null,
   "metadata": {
    "id": "-B_jW6FSBLOw"
   },
   "outputs": [],
   "source": [
    "def get_BMI(height, weight):\n",
    "    if not (np.isnan(height) and np.isnan(weight)):\n",
    "        return weight / np.square(height)\n",
    "    else:\n",
    "        return np.nan "
   ]
  },
  {
   "cell_type": "code",
   "execution_count": null,
   "metadata": {},
   "outputs": [],
   "source": [
    "dataset[\"BMI\"] = dataset.apply(lambda x: get_BMI(x[\"height\"], x[\"weight\"]), axis=1)"
   ]
  },
  {
   "cell_type": "markdown",
   "metadata": {
    "id": "rMzFrARPBLO0"
   },
   "source": [
    "### Country"
   ]
  },
  {
   "cell_type": "code",
   "execution_count": null,
   "metadata": {
    "id": "E9_b2ymvBLO0"
   },
   "outputs": [],
   "source": [
    "dataset = dataset.rename(columns={\"last_country\": \"country\"})"
   ]
  },
  {
   "cell_type": "markdown",
   "metadata": {
    "id": "OKxjJ_-OBLO1"
   },
   "source": [
    "### Age"
   ]
  },
  {
   "cell_type": "code",
   "execution_count": null,
   "metadata": {
    "id": "RtNht1feBLO1"
   },
   "outputs": [],
   "source": [
    "def get_current_age(start_date_transition, birth_year):\n",
    "    if isinstance(birth_year, str):\n",
    "        birth_year_lim = birth_year.split(\"-\")\n",
    "        min_by = birth_year_lim[0]\n",
    "        birth_date_min = datetime(year=int(min_by), month=1, day=1)\n",
    "        max_age = relativedelta.relativedelta(start_date_transition, birth_date_min).years\n",
    "        if max_age > 0:\n",
    "            return max_age\n",
    "        else:\n",
    "            return np.nan\n",
    "    else:\n",
    "        return np.nan"
   ]
  },
  {
   "cell_type": "code",
   "execution_count": null,
   "metadata": {},
   "outputs": [],
   "source": [
    "dataset[\"current_age\"] = dataset.apply(lambda x: get_current_age((x[\"start_date_transition\"], x[\"birth_year\"]), axis=1)"
   ]
  },
  {
   "cell_type": "markdown",
   "metadata": {
    "id": "diUd9PKOBLO3"
   },
   "source": [
    "### add cycle-specific data"
   ]
  },
  {
   "cell_type": "code",
   "execution_count": null,
   "metadata": {},
   "outputs": [],
   "source": [
    "dataset[\"first_input_cycle\"] = dataset[\"input_cycles\"].apply(lambda x: x[0])\n",
    "dataset[\"second_input_cycle\"] = dataset[\"input_cycles\"].apply(lambda x: x[1])\n",
    "dataset[\"third_input_cycle\"] = dataset[\"input_cycles\"].apply(lambda x: x[2])"
   ]
  },
  {
   "cell_type": "code",
   "execution_count": null,
   "metadata": {
    "id": "dVekp3GbBLO5"
   },
   "outputs": [],
   "source": [
    "dataset = pd.merge(dataset, cycles[[\"unique_cycle_id\", \"cycle_length\"]], how=\"left\", left_on=\"first_input_cycle\", right_on=\"unique_cycle_id\")\n",
    "dataset = dataset.rename(columns={\"cycle_length\": \"first_input_CL\"})"
   ]
  },
  {
   "cell_type": "code",
   "execution_count": null,
   "metadata": {
    "id": "1Ws_cOIjBLO6"
   },
   "outputs": [],
   "source": [
    "dataset = pd.merge(dataset, cycles[[\"unique_cycle_id\", \"cycle_length\"]], how=\"left\", left_on=\"second_input_cycle\", right_on=\"unique_cycle_id\")\n",
    "dataset = dataset.rename(columns={\"cycle_length\": \"second_input_CL\"})"
   ]
  },
  {
   "cell_type": "code",
   "execution_count": null,
   "metadata": {
    "id": "0wRLx1-zBLO7"
   },
   "outputs": [],
   "source": [
    "dataset = pd.merge(dataset, cycles[[\"unique_cycle_id\", \"cycle_length\"]], how=\"left\", left_on=\"third_input_cycle\", right_on=\"unique_cycle_id\")\n",
    "dataset = dataset.rename(columns={\"cycle_length\": \"third_input_CL\"})"
   ]
  },
  {
   "cell_type": "code",
   "execution_count": null,
   "metadata": {
    "id": "wypH25ilBLPF"
   },
   "outputs": [],
   "source": [
    "dataset.pop(\"unique_cycle_id\")"
   ]
  },
  {
   "cell_type": "code",
   "execution_count": null,
   "metadata": {
    "id": "6uPd7WZaBLPG"
   },
   "outputs": [],
   "source": [
    "dataset['median_CL_inputs'] = dataset[['first_input_CL', 'second_input_CL', 'third_input_CL']].median(axis=1)\n",
    "dataset['mean_CL_inputs'] = dataset[['first_input_CL', 'second_input_CL', 'third_input_CL']].mean(axis=1)\n",
    "dataset['var_CL_inputs'] = dataset[['first_input_CL', 'second_input_CL', 'third_input_CL']].var(axis=1)"
   ]
  },
  {
   "cell_type": "code",
   "execution_count": null,
   "metadata": {
    "id": "MRbN2LqLBLPG"
   },
   "outputs": [],
   "source": [
    "def get_days_on_current_BC(user, start_date_transition):\n",
    "    date = start_date_transition - timedelta(days=1)\n",
    "    key = [key for key in BC_mapper[user].keys() if date in key]\n",
    "    key = list(key[0])\n",
    "    min_date = np.min(key)\n",
    "    return (date - min_date).days"
   ]
  },
  {
   "cell_type": "code",
   "execution_count": null,
   "metadata": {},
   "outputs": [],
   "source": [
    "dataset[\"days_on_current_BC\"] = dataset.apply(lambda x: get_days_on_current_BC(x[\"anon_id\"], x[\"start_date_transition\"]), axis=1)"
   ]
  },
  {
   "cell_type": "code",
   "execution_count": null,
   "metadata": {
    "id": "4U3stFkyBLPH"
   },
   "outputs": [],
   "source": [
    "dataset[\"bc_label_out\"].value_counts(normalize=True)*100"
   ]
  },
  {
   "cell_type": "markdown",
   "metadata": {
    "id": "ehh_EN6YBLPI"
   },
   "source": [
    "## prepare inputs"
   ]
  },
  {
   "cell_type": "code",
   "execution_count": null,
   "metadata": {
    "id": "oQG1XiDMBLPJ"
   },
   "outputs": [],
   "source": [
    "dataset = pd.merge(dataset, cycles[[\"unique_cycle_id\", \"cycle_start\", \"cycle_end\"]], how=\"left\", left_on=\"first_input_cycle\", right_on=\"unique_cycle_id\")\n",
    "dataset = dataset.rename(columns={\"cycle_start\": \"start_first_cycle\", \"cycle_end\": \"end_first_cycle\"})"
   ]
  },
  {
   "cell_type": "code",
   "execution_count": null,
   "metadata": {
    "id": "DFAQ4MOBBLPL"
   },
   "outputs": [],
   "source": [
    "dataset = pd.merge(dataset, cycles[[\"unique_cycle_id\", \"cycle_start\", \"cycle_end\"]], how=\"left\", left_on=\"second_input_cycle\", right_on=\"unique_cycle_id\")\n",
    "dataset = dataset.rename(columns={\"cycle_start\": \"start_second_cycle\", \"cycle_end\": \"end_second_cycle\"})"
   ]
  },
  {
   "cell_type": "code",
   "execution_count": null,
   "metadata": {
    "id": "2ErREiRiBLPM"
   },
   "outputs": [],
   "source": [
    "dataset = pd.merge(dataset, cycles[[\"unique_cycle_id\", \"cycle_start\", \"cycle_end\"]], how=\"left\", left_on=\"third_input_cycle\", right_on=\"unique_cycle_id\")\n",
    "dataset = dataset.rename(columns={\"cycle_start\": \"start_third_cycle\", \"cycle_end\": \"end_third_cycle\"})"
   ]
  },
  {
   "cell_type": "code",
   "execution_count": null,
   "metadata": {
    "id": "q3G3Yw7zBLPP"
   },
   "outputs": [],
   "source": [
    "def get_input_cycles_25_dates(start_first_cycle, end_first_cycle, start_second_cycle, end_second_cycle, start_third_cycle, end_third_cycle):\n",
    "    # we only want to take 25 days of the cycles into account\n",
    "    # counting backward from last cycle: -18 to -1\n",
    "    # and the first 7 days\n",
    "    first_cycle_dates_1 = [d for d in daterange(start_first_cycle, start_first_cycle + timedelta(days=6))]\n",
    "    first_cycle_dates_2 = [d for d in daterange(end_first_cycle - timedelta(days=17), end_first_cycle)]\n",
    "    \n",
    "    second_cycle_dates_1 = [d for d in daterange(start_second_cycle, start_second_cycle + timedelta(days=6))]\n",
    "    second_cycle_dates_2 = [d for d in daterange(end_second_cycle - timedelta(days=17), end_second_cycle)]\n",
    "    \n",
    "    third_cycle_dates_1 = [d for d in daterange(start_third_cycle, start_third_cycle + timedelta(days=6))]\n",
    "    third_cycle_dates_2 = [d for d in daterange(end_third_cycle - timedelta(days=17), end_third_cycle)]\n",
    "    \n",
    "    all_dates = first_cycle_dates_1 + first_cycle_dates_2 + second_cycle_dates_1 + second_cycle_dates_2 + third_cycle_dates_1 + third_cycle_dates_2\n",
    "    return all_dates"
   ]
  },
  {
   "cell_type": "code",
   "execution_count": null,
   "metadata": {},
   "outputs": [],
   "source": [
    "dataset[\"input_cycles_25_dates\"] = dataset.apply(lambda x: get_input_cycles_25_dates(x[\"start_first_cycle\"], x[\"end_first_cycle\"], x[\"start_second_cycle\"], x[\"end_second_cycle\"], x[\"start_third_cycle\"], x[\"end_third_cycle\"]), axis=1)"
   ]
  },
  {
   "cell_type": "code",
   "execution_count": null,
   "metadata": {
    "id": "HshNw_MrBLPQ"
   },
   "outputs": [],
   "source": [
    "def get_end_120_days_output(third_cycle_end):\n",
    "    return third_cycle_end + timedelta(days=120)"
   ]
  },
  {
   "cell_type": "code",
   "execution_count": null,
   "metadata": {},
   "outputs": [],
   "source": [
    "dataset[\"end_120_days_output\"] = dataset[\"third_cycle_end\"].apply(lambda x: get_end_120_days_output(x))"
   ]
  },
  {
   "cell_type": "code",
   "execution_count": null,
   "metadata": {
    "id": "HkFd3g3-BLPQ"
   },
   "outputs": [],
   "source": [
    "dataset[\"third_cycle_end\"] = pd.to_datetime(dataset[\"third_cycle_end\"])\n",
    "dataset[\"third_cycle_end\"] = dataset[\"third_cycle_end\"].dt.date"
   ]
  },
  {
   "cell_type": "code",
   "execution_count": null,
   "metadata": {
    "id": "Yu9av5h8BLPR"
   },
   "outputs": [],
   "source": [
    "def map_dates_to_BC(user, dates):\n",
    "    BC_list = list()\n",
    "    for date in dates:\n",
    "        count = 0\n",
    "        for key in BC_mapper[user].keys():\n",
    "            if date in key:\n",
    "                count += 1\n",
    "                BC = BC_mapper[user][key]  \n",
    "                BC_list.append(BC)\n",
    "            else:\n",
    "                continue\n",
    "                \n",
    "        if count == 0:\n",
    "            BC_list.append(\"no valid BC\")\n",
    "\n",
    "    return BC_list"
   ]
  },
  {
   "cell_type": "code",
   "execution_count": null,
   "metadata": {
    "id": "iG-x9nn4BLPR"
   },
   "outputs": [],
   "source": [
    "def get_BC_timeseries_input(user, input_dates):\n",
    "    BC_list = list()\n",
    "    for date in input_dates:\n",
    "        count = 0\n",
    "        for key in BC_mapper[user].keys():\n",
    "            if date in key:\n",
    "                count += 1\n",
    "                BC = BC_mapper[user][key]\n",
    "                BC_list.append(BC)\n",
    "            else:\n",
    "                continue\n",
    "        \n",
    "        if count == 0:\n",
    "            BC_list.append(\"no valid BC\")\n",
    "    \n",
    "    return BC_list"
   ]
  },
  {
   "cell_type": "code",
   "execution_count": null,
   "metadata": {},
   "outputs": [],
   "source": [
    "dataset[\"BC_input_timeseries\"] = dataset.apply(lambda x: get_BC_timeseries_input(x[\"anon_id\"], x[\"input_cycles_25_dates\"]), axis=1)"
   ]
  },
  {
   "cell_type": "code",
   "execution_count": null,
   "metadata": {
    "id": "7RaaebRuBLPY"
   },
   "outputs": [],
   "source": [
    "dataset[\"n_output_cycles\"] = dataset[\"output_cycles\"].apply(lambda x: len(x))"
   ]
  },
  {
   "cell_type": "code",
   "execution_count": null,
   "metadata": {
    "id": "KsB9qcztBLPc"
   },
   "outputs": [],
   "source": [
    "dataset[\"final_output_cycles\"] = dataset[\"output_cycles\"].apply(lambda x: x[:3] if len(x) > 3 else x)\n",
    "dataset[\"final_output_cycles\"] = dataset.apply(lambda x: get_cycle_ids(x[\"anon_id\"], x[\"final_output_cycles\"]), axis=1)"
   ]
  },
  {
   "cell_type": "code",
   "execution_count": null,
   "metadata": {
    "id": "pA_eJp1aBLPc"
   },
   "outputs": [],
   "source": [
    "def get_output_cycles_dates(three_cycles):\n",
    "    first_cycle = three_cycles[0]\n",
    "    last_cycle = three_cycles[-1]\n",
    "    \n",
    "    start = cycles[cycles[\"unique_cycle_id\"] == first_cycle][\"cycle_start\"].values[0]\n",
    "    start = pd.Timestamp(start).to_pydatetime()\n",
    "    end = cycles[cycles[\"unique_cycle_id\"] == last_cycle][\"cycle_end\"].values[0]\n",
    "    end = pd.Timestamp(end).to_pydatetime()\n",
    "    \n",
    "    dates = [d.date() for d in daterange(start, end)]\n",
    "    return dates"
   ]
  },
  {
   "cell_type": "code",
   "execution_count": null,
   "metadata": {
    "id": "9nvS-4uOBLPc"
   },
   "outputs": [],
   "source": [
    "def get_output_dates(start_date, end_date):\n",
    "    dates = [d for d in daterange(start_date + timedelta(days=1), end_date)]\n",
    "    return dates"
   ]
  },
  {
   "cell_type": "code",
   "execution_count": null,
   "metadata": {},
   "outputs": [],
   "source": [
    "dataset[\"output_dates\"] = dataset.apply(lambda x: get_output_dates(x[\"third_cycle_end\"], x[\"end_120_days_output\"]), axis=1)"
   ]
  },
  {
   "cell_type": "code",
   "execution_count": null,
   "metadata": {
    "id": "eV_sJXc9BLPd"
   },
   "outputs": [],
   "source": [
    "final_users = dataset[\"anon_id\"].unique().tolist()"
   ]
  },
  {
   "cell_type": "code",
   "execution_count": null,
   "metadata": {
    "id": "A0dY94ZSBLPd"
   },
   "outputs": [],
   "source": [
    "def create_inverse_cycle_id_mapper(cycles):\n",
    "    cycle_id_mapper = defaultdict(dict)\n",
    "    for i, values in enumerate(tqdm(cycles.groupby(\"anon_id\"))):\n",
    "        user = values[0]\n",
    "        cycle_starts = values[1][\"cycle_start\"]\n",
    "        cycle_ids = values[1][\"unique_cycle_id\"]\n",
    "        cycle_end_dates = values[1][\"cycle_end\"]\n",
    "        for j, (start, ID, end) in enumerate(zip(cycle_starts, cycle_ids, cycle_end_dates)):\n",
    "            cycle_id_mapper[user][ID] = [start, end]\n",
    "    return cycle_id_mapper"
   ]
  },
  {
   "cell_type": "code",
   "execution_count": null,
   "metadata": {
    "id": "NG6lp6znBLPd"
   },
   "outputs": [],
   "source": [
    "inv_C_ID_mapper = create_inverse_cycle_id_mapper(cycles)"
   ]
  },
  {
   "cell_type": "code",
   "execution_count": null,
   "metadata": {
    "id": "o7aeUMzuBLPd"
   },
   "outputs": [],
   "source": [
    "def get_output_cycles_dates_standardized(user, output_cycles):\n",
    "    final_output_dates = []\n",
    "    for c in output_cycles:\n",
    "        [cycle_start, cycle_end] = inv_C_ID_mapper[user][c]\n",
    "        cycle_dates_1 = [d for d in daterange(cycle_start, cycle_start + timedelta(days=6))]\n",
    "        final_output_dates += cycle_dates_1\n",
    "        cycle_dates_2 = [d for d in daterange(cycle_end - timedelta(days=17), cycle_end)]\n",
    "        final_output_dates += cycle_dates_2\n",
    "    \n",
    "    return final_output_dates"
   ]
  },
  {
   "cell_type": "code",
   "execution_count": null,
   "metadata": {},
   "outputs": [],
   "source": [
    "dataset[\"final_output_dates\"] = dataset.apply(lambda x: get_output_cycles_dates_standardized(x[\"anon_id\"], x[\"final_output_cycles\"]), axis=1)"
   ]
  },
  {
   "cell_type": "code",
   "execution_count": null,
   "metadata": {},
   "outputs": [],
   "source": [
    "dataset[\"BC_final_output_timeseries\"] = dataset.apply(lambda x: get_BC_timeseries_input(x[\"anon_id\"], x[\"final_output_dates\"]), axis=1)"
   ]
  },
  {
   "cell_type": "code",
   "execution_count": null,
   "metadata": {
    "id": "FjO_ykhABLPe"
   },
   "outputs": [],
   "source": [
    "all_output_BC_labels = [item for sublist in dataset[\"BC_final_output_timeseries\"].tolist() for item in sublist]"
   ]
  },
  {
   "cell_type": "markdown",
   "metadata": {},
   "source": [
    "### one-hot encoding the birth control labels"
   ]
  },
  {
   "cell_type": "code",
   "execution_count": null,
   "metadata": {
    "id": "KSGo_1wRBLPg"
   },
   "outputs": [],
   "source": [
    "le = preprocessing.LabelEncoder()\n",
    "bc_s = dataset[\"bc_label_out\"].unique().tolist()\n",
    "bc_s.extend(['no valid BC'])\n",
    "le.fit(bc_s)\n",
    "le.classes_\n",
    "# creating instance of one-hot-encoder\n",
    "enc = OneHotEncoder(handle_unknown='ignore')\n",
    "enc.fit(le.transform(bc_s).reshape(-1, 1))"
   ]
  },
  {
   "cell_type": "code",
   "execution_count": null,
   "metadata": {
    "id": "iIK84SjKBLPg"
   },
   "outputs": [],
   "source": [
    "le.transform(bc_s)"
   ]
  },
  {
   "cell_type": "code",
   "execution_count": null,
   "metadata": {
    "id": "vrIoewhZBLPg"
   },
   "outputs": [],
   "source": [
    "def transform_BC_timeseries_to_onehot(BC_timeseries):\n",
    "    if BC_timeseries != []:\n",
    "        le_BC = le.transform(BC_timeseries)\n",
    "        return enc.transform(le_BC.reshape(-1, 1)).toarray()\n",
    "    else:\n",
    "        return []"
   ]
  },
  {
   "cell_type": "code",
   "execution_count": null,
   "metadata": {},
   "outputs": [],
   "source": [
    "dataset[\"BC_timeseries_onehot\"] = dataset[\"BC_input_timeseries\"].apply(lambda x: transform_BC_timeseries_to_onehot(x))"
   ]
  },
  {
   "cell_type": "code",
   "execution_count": null,
   "metadata": {},
   "outputs": [],
   "source": [
    "dataset[\"BC_output_timeseries_onehot\"] = dataset[\"BC_final_output_timeseries\"].apply(lambda x: transform_BC_timeseries_to_onehot(x))"
   ]
  },
  {
   "cell_type": "code",
   "execution_count": null,
   "metadata": {
    "id": "u-adLb8KBLPi"
   },
   "outputs": [],
   "source": [
    "def get_new_cat(cat, type_):\n",
    "    if type_ == \"motivated\" or type_ == \"unmotivated\":\n",
    "        cat = \"motivation\"\n",
    "    elif type_ == \"unproductive\" or type_ == \"productive\":\n",
    "        cat = \"productivity\"\n",
    "    else:\n",
    "        cat = cat\n",
    "    return cat"
   ]
  },
  {
   "cell_type": "code",
   "execution_count": null,
   "metadata": {},
   "outputs": [],
   "source": [
    "tracking[\"category\"] = tracking.apply(lambda x: get_new_cat(x[\"category\"], x[\"type\"]), axis=1)"
   ]
  },
  {
   "cell_type": "markdown",
   "metadata": {
    "id": "txCxg530BLPk"
   },
   "source": [
    "**Ordinal:**\n",
    "- period (bleeding) \n",
    "    - spotting\n",
    "    - light\n",
    "    - medium\n",
    "    - heavy\n",
    "\n",
    "- energy\n",
    "    - exhausted\n",
    "    - low energy\n",
    "    - energized\n",
    "    - high energy\n",
    "    \n",
    "- motivation \n",
    "    - unmotivated\n",
    "    - motivated\n",
    "\n",
    "- productivity\n",
    "    - unproductive\n",
    "    - productive\n",
    "    \n",
    "**Categorical:**\n",
    "- pain\n",
    "    - cramps\n",
    "    - headache\n",
    "    - tender breasts\n",
    "    - ovulation Pain\n",
    " \n",
    "- mental\n",
    "    - calm\n",
    "    - focused\n",
    "    - distracted\n",
    "    - stressed\n",
    "    \n",
    "- emotion\n",
    "    - happy\n",
    "    - sad\n",
    "    - sensitive_emotion\n",
    "    - pms\n",
    "    \n",
    "- social\n",
    "    - conflict_social\n",
    "    - withdrawn_social\n",
    "    - sociable\n",
    "    - supportive_social\n",
    "    \n",
    "- pain medication "
   ]
  },
  {
   "cell_type": "code",
   "execution_count": null,
   "metadata": {
    "id": "v6czbzG4BLPk"
   },
   "outputs": [],
   "source": [
    "ordinal_variable_encoder = defaultdict(dict)\n",
    "## let's add the ordinal categories\n",
    "\n",
    "#period\n",
    "ordinal_variable_encoder['period']['spotting'] = 1.0\n",
    "ordinal_variable_encoder['period']['light'] = 2.0\n",
    "ordinal_variable_encoder['period']['medium'] = 3.0\n",
    "ordinal_variable_encoder['period']['heavy'] = 4.0\n",
    "\n",
    "#energy\n",
    "ordinal_variable_encoder['energy']['exhausted'] = 1.0\n",
    "ordinal_variable_encoder['energy']['low_energy'] = 2.0\n",
    "ordinal_variable_encoder['energy']['energized'] = 3.0\n",
    "ordinal_variable_encoder['energy']['high_energy'] = 4.0\n",
    "\n",
    "#motivation\n",
    "ordinal_variable_encoder['motivation']['unmotivated'] = 1.0\n",
    "ordinal_variable_encoder['motivation']['motivated'] = 2.0\n",
    "\n",
    "#productivity\n",
    "ordinal_variable_encoder['productivity']['unproductive'] = 1.0\n",
    "ordinal_variable_encoder['productivity']['productive'] = 2.0"
   ]
  },
  {
   "cell_type": "code",
   "execution_count": null,
   "metadata": {
    "id": "grApVO_WBLPl"
   },
   "outputs": [],
   "source": [
    "new_cat_list = map(lambda x, y: (x, y), tqdm(tracking[\"category\"].tolist()), tracking[\"type\"].tolist())\n",
    "tracking[\"new_cat\"] = list(new_cat_list)"
   ]
  },
  {
   "cell_type": "code",
   "execution_count": null,
   "metadata": {
    "id": "yMCP_GZUBLPm"
   },
   "outputs": [],
   "source": [
    "tracking[\"new_cat\"].value_counts(normalize=True) * 100"
   ]
  },
  {
   "cell_type": "code",
   "execution_count": null,
   "metadata": {
    "id": "vdYzqEaSBLPn"
   },
   "outputs": [],
   "source": [
    "unique_categories = tracking[\"new_cat\"].unique().tolist()\n",
    "k = [x[0] for x in unique_categories]\n",
    "unique_global_cats = []\n",
    "for item in k:\n",
    "    if item not in unique_global_cats:\n",
    "        unique_global_cats.append(item)"
   ]
  },
  {
   "cell_type": "code",
   "execution_count": null,
   "metadata": {
    "id": "RExgkBsRBLPp"
   },
   "outputs": [],
   "source": [
    "unique_global_cats = [\"pill_hbc\", \n",
    "                      \"period\", \n",
    "                      \"pain\", \n",
    "                      \"productivity\", \n",
    "                      \"social\", \n",
    "                      \"energy\", \n",
    "                      \"medication\", \n",
    "                      \"emotion\", \n",
    "                      \"mental\",\n",
    "                      \"motivation\"]"
   ]
  },
  {
   "cell_type": "code",
   "execution_count": null,
   "metadata": {
    "id": "jt1HQ5xsBLPq"
   },
   "outputs": [],
   "source": [
    "subcategories = {\n",
    "    'pain': ['cramps', 'headache', 'ovulation_pain', 'tender_breasts'],\n",
    "    'emotion': ['happy', 'sad', 'sensitive_emotion', 'pms'],\n",
    "    'mental': ['calm', 'focused', 'distracted', 'stressed'],\n",
    "    'social': ['conflict_social', 'withdrawn_social', 'sociable', 'supportive_social'],\n",
    "    'pill_hbc': ['taken', 'missed', 'late', 'double']\n",
    "}"
   ]
  },
  {
   "cell_type": "code",
   "execution_count": null,
   "metadata": {
    "id": "Qk98YH-oBLPq"
   },
   "outputs": [],
   "source": [
    "missing_global_cats = {\n",
    "    'emotion': [0.0, 0.0, 0.0, 0.0, 0.0],\n",
    "    'energy': [0.0, 1.0],\n",
    "    'medication': [0.0],\n",
    "    'mental': [0.0, 0.0, 0.0, 0.0, 0.0],\n",
    "    'motivation': [0.0, 1.0],\n",
    "    'pain': [0.0, 0.0, 0.0, 0.0, 0.0],\n",
    "    'period': [0.0, 1.0],\n",
    "    'productivity': [0.0, 1.0],\n",
    "    'social': [0.0, 0.0, 0.0, 0.0, 0.0],\n",
    "    'pill_hbc': [0.0, 0.0, 0.0, 0.0, 0.0]\n",
    "}"
   ]
  },
  {
   "cell_type": "code",
   "execution_count": null,
   "metadata": {
    "id": "A2Rctdm6BLPq"
   },
   "outputs": [],
   "source": [
    "missing_one_hot_day = [missing_global_cats[x] for x in unique_global_cats]\n",
    "missing_one_hot_day = [item for sublist in missing_one_hot_day for item in sublist]"
   ]
  },
  {
   "cell_type": "code",
   "execution_count": null,
   "metadata": {
    "id": "hM_rZn1OBLPu"
   },
   "outputs": [],
   "source": [
    "all_input_cycles = [item for sublist in dataset[\"input_cycles\"].tolist() for item in sublist]"
   ]
  },
  {
   "cell_type": "code",
   "execution_count": null,
   "metadata": {
    "id": "CF5ASBzzBLPv"
   },
   "outputs": [],
   "source": [
    "input_cycles_df = cycles[cycles[\"unique_cycle_id\"].isin(all_input_cycles)]"
   ]
  },
  {
   "cell_type": "code",
   "execution_count": null,
   "metadata": {
    "id": "vWiOKFFqBLPv"
   },
   "outputs": [],
   "source": [
    "def get_25_standardized_days(cycle_start, cycle_end):    \n",
    "    first_cycle_dates_1 = [d for d in daterange(cycle_start, cycle_start + timedelta(days=6))]\n",
    "    first_cycle_dates_2 = [d for d in daterange(cycle_end - timedelta(days=17), cycle_end)]\n",
    "    return first_cycle_dates_1 + first_cycle_dates_2"
   ]
  },
  {
   "cell_type": "code",
   "execution_count": null,
   "metadata": {},
   "outputs": [],
   "source": [
    "input_cycles_df[\"standardized_25_cycle_days\"] = input_cycles_df.apply(lambda x: get_25_standardized_days(x[\"cycle_start\"], x[\"cycle_end\"]), axis=1)"
   ]
  },
  {
   "cell_type": "code",
   "execution_count": null,
   "metadata": {
    "id": "VGLOOonhBLPw"
   },
   "outputs": [],
   "source": [
    "standardized_cycle_days = dict(zip(input_cycles_df.unique_cycle_id, input_cycles_df.standardized_25_cycle_days))"
   ]
  },
  {
   "cell_type": "code",
   "execution_count": null,
   "metadata": {
    "id": "PdfJ5AcABLPw"
   },
   "outputs": [],
   "source": [
    "input_cycles_tracking = tracking[tracking[\"cycle_id\"].isin(all_input_cycles)]"
   ]
  },
  {
   "cell_type": "markdown",
   "metadata": {
    "id": "WayANShmBLPx"
   },
   "source": [
    "### 8. Filter out input-output pairs where the user only tracks \"period'' in the 3 input cycles."
   ]
  },
  {
   "cell_type": "code",
   "execution_count": null,
   "metadata": {
    "id": "MD7mhLtiBLPx"
   },
   "outputs": [],
   "source": [
    "logging_fractions_check = input_cycles_tracking[input_cycles_tracking[\"category\"] != \"period\"]\n",
    "input_cycles_logging_fractions_dict = logging_fractions_check.groupby(\"cycle_id\")[\"date\"].count().to_dict()"
   ]
  },
  {
   "cell_type": "code",
   "execution_count": null,
   "metadata": {
    "id": "RqnetWY6BLPx"
   },
   "outputs": [],
   "source": [
    "def get_logging_counts_3_input_cycles(input_cycles):\n",
    "    three_counts = [input_cycles_logging_fractions_dict[x] if x in input_cycles_logging_fractions_dict.keys() else 0 for x in input_cycles]\n",
    "    return sum(three_counts)"
   ]
  },
  {
   "cell_type": "code",
   "execution_count": null,
   "metadata": {},
   "outputs": [],
   "source": [
    "dataset[\"logging_counts_input_cycles\"] = dataset[\"input_cycles\"].apply(lambda x: get_logging_counts_3_input_cycles(x))"
   ]
  },
  {
   "cell_type": "code",
   "execution_count": null,
   "metadata": {
    "id": "m8kVVcKsBLPy"
   },
   "outputs": [],
   "source": [
    "dataset = dataset[dataset[\"logging_counts_input_cycles\"] > 0]"
   ]
  },
  {
   "cell_type": "code",
   "execution_count": null,
   "metadata": {
    "id": "veVGXLIWBLPz"
   },
   "outputs": [],
   "source": [
    "final_users = dataset[\"anon_id\"].unique().tolist()"
   ]
  },
  {
   "cell_type": "code",
   "execution_count": null,
   "metadata": {
    "id": "CYKCPDNbBLPz"
   },
   "outputs": [],
   "source": [
    "cycles = cycles[cycles[\"anon_id\"].isin(final_users)]\n",
    "cycles.shape"
   ]
  },
  {
   "cell_type": "code",
   "execution_count": null,
   "metadata": {
    "id": "WujGmmhsBLPz"
   },
   "outputs": [],
   "source": [
    "tracking = tracking[tracking[\"anon_id\"].isin(final_users)]\n",
    "tracking.shape"
   ]
  },
  {
   "cell_type": "code",
   "execution_count": null,
   "metadata": {
    "id": "9UzaUyhHBLPz"
   },
   "outputs": [],
   "source": [
    "users = users[users[\"anon_id\"].isin(final_users)]\n",
    "users.shape"
   ]
  },
  {
   "cell_type": "code",
   "execution_count": null,
   "metadata": {
    "id": "8B_sDQZ0BLP0"
   },
   "outputs": [],
   "source": [
    "birth_control = birth_control[birth_control[\"anon_id\"].isin(final_users)]\n",
    "birth_control.shape"
   ]
  },
  {
   "cell_type": "code",
   "execution_count": null,
   "metadata": {
    "id": "l7PtLT1lBLP0"
   },
   "outputs": [],
   "source": [
    "all_input_cycles = dataset[\"input_cycles\"].to_list()\n",
    "unique_input_cycles = [x for sublist in all_input_cycles for x in sublist]"
   ]
  },
  {
   "cell_type": "code",
   "execution_count": null,
   "metadata": {
    "id": "B63uysO-BLP0"
   },
   "outputs": [],
   "source": [
    "all_output_cycles = dataset[\"final_output_cycles\"].to_list()\n",
    "unique_output_cycles = [x for sublist in all_output_cycles for x in sublist]"
   ]
  },
  {
   "cell_type": "code",
   "execution_count": null,
   "metadata": {
    "id": "x8Rc4pMgBLP1"
   },
   "outputs": [],
   "source": [
    "final_unique_cycles = unique_input_cycles + unique_output_cycles\n",
    "final_unique_cycles = np.unique(np.array(unique_output_cycles))"
   ]
  },
  {
   "cell_type": "code",
   "execution_count": null,
   "metadata": {
    "id": "_3dn_lbnBLP1"
   },
   "outputs": [],
   "source": [
    "final_cycles_df = cycles[cycles[\"unique_cycle_id\"].isin(final_unique_cycles)]"
   ]
  },
  {
   "cell_type": "code",
   "execution_count": null,
   "metadata": {},
   "outputs": [],
   "source": [
    "final_cycles_df[\"standardized_25_cycle_days\"] = final_cycles_df.apply(lambda x: get_25_standardized_days(x[\"cycle_start\"], x[\"cycle_end\"]), axis=1)"
   ]
  },
  {
   "cell_type": "code",
   "execution_count": null,
   "metadata": {
    "id": "Sg9Sgr_4BLP2"
   },
   "outputs": [],
   "source": [
    "standardized_cycle_days = dict(zip(final_cycles_df.unique_cycle_id, final_cycles_df.standardized_25_cycle_days))"
   ]
  },
  {
   "cell_type": "code",
   "execution_count": null,
   "metadata": {
    "id": "cOXVuk2dBLP2"
   },
   "outputs": [],
   "source": [
    "final_cycles_tracking = tracking[tracking[\"cycle_id\"].isin(final_unique_cycles)]"
   ]
  },
  {
   "cell_type": "code",
   "execution_count": null,
   "metadata": {
    "id": "VJX16u1BBLP2"
   },
   "outputs": [],
   "source": [
    "BC_timeseries_cycles = defaultdict()"
   ]
  },
  {
   "cell_type": "code",
   "execution_count": null,
   "metadata": {
    "id": "wkMH0pIdBLP2"
   },
   "outputs": [],
   "source": [
    "dataset[\"BC_timeseries_1\"] = dataset[\"BC_timeseries_onehot\"].apply(lambda x: x[:25])\n",
    "dataset[\"BC_timeseries_1\"] = dataset.apply(lambda x: (x[\"first_input_cycle\"], x[\"BC_timeseries_1\"]), axis=1)\n",
    "list_1 = dataset[\"BC_timeseries_1\"].tolist()\n",
    "for d in tqdm(list_1):\n",
    "    BC_timeseries_cycles[d[0]] = d[1]"
   ]
  },
  {
   "cell_type": "code",
   "execution_count": null,
   "metadata": {
    "id": "rcY3RNp8BLP3"
   },
   "outputs": [],
   "source": [
    "dataset[\"BC_timeseries_2\"] = dataset[\"BC_timeseries_onehot\"].apply(lambda x: x[25:50])\n",
    "dataset[\"BC_timeseries_2\"] = dataset.apply(lambda x: (x[\"second_input_cycle\"], x[\"BC_timeseries_2\"]), axis=1)\n",
    "list_2 = dataset[\"BC_timeseries_2\"].tolist()\n",
    "for d in tqdm(list_2):\n",
    "    BC_timeseries_cycles[d[0]] = d[1]"
   ]
  },
  {
   "cell_type": "code",
   "execution_count": null,
   "metadata": {
    "id": "AT7btaUsBLP4"
   },
   "outputs": [],
   "source": [
    "dataset[\"BC_timeseries_3\"] = dataset[\"BC_timeseries_onehot\"].apply(lambda x: x[50:])\n",
    "dataset[\"BC_timeseries_3\"] = dataset.apply(lambda x: (x[\"third_input_cycle\"], x[\"BC_timeseries_3\"]), axis=1)\n",
    "list_3 = dataset[\"BC_timeseries_3\"].tolist()\n",
    "for d in tqdm(list_3):\n",
    "    BC_timeseries_cycles[d[0]] = d[1]"
   ]
  },
  {
   "cell_type": "code",
   "execution_count": null,
   "metadata": {
    "id": "HO7KLdIgBLP4"
   },
   "outputs": [],
   "source": [
    "l = BC_timeseries_cycles"
   ]
  },
  {
   "cell_type": "code",
   "execution_count": null,
   "metadata": {
    "id": "cYziA1tpBLP5"
   },
   "outputs": [],
   "source": [
    "def get_tuples_output_BC_cycles(output_cycles_list, output_BC_timeseries_one_hot):\n",
    "    return [(c, output_BC_timeseries_one_hot[i*25:(i+1)*25]) for i, c in enumerate(output_cycles_list)]"
   ]
  },
  {
   "cell_type": "code",
   "execution_count": null,
   "metadata": {},
   "outputs": [],
   "source": [
    "dataset[\"tuples_ouput_BC_cycles\"] = dataset.apply(lambda x: get_tuples_output_BC_cycles(x[\"final_output_cycles\"], x[\"BC_output_timeseries_onehot\"]), axis=1)"
   ]
  },
  {
   "cell_type": "code",
   "execution_count": null,
   "metadata": {
    "id": "kcghhl58BLP5"
   },
   "outputs": [],
   "source": [
    "list_output_cycles = dataset[\"tuples_ouput_BC_cycles\"].tolist()\n",
    "list_output_cycles = [item for sublist in list_output_cycles for item in sublist]\n",
    "for d in tqdm(list_output_cycles):\n",
    "    BC_timeseries_cycles[d[0]] = d[1]"
   ]
  },
  {
   "cell_type": "code",
   "execution_count": null,
   "metadata": {
    "id": "W8Dm6sxOBLP6"
   },
   "outputs": [],
   "source": [
    "l = BC_timeseries_cycles"
   ]
  },
  {
   "cell_type": "code",
   "execution_count": null,
   "metadata": {
    "id": "_7Uvyf4CBLP6",
    "scrolled": true
   },
   "outputs": [],
   "source": [
    "idx_to_del = []\n",
    "for c, values in tqdm(final_cycles_tracking.groupby(\"cycle_id\")):\n",
    "    cycle_tracking_dates = values[\"date\"].tolist()\n",
    "    final_idx_list = values[\"index\"].tolist()\n",
    "    wanted_dates = standardized_cycle_days[c]\n",
    "    idx_list = [i for i, element in enumerate(cycle_tracking_dates) if element not in wanted_dates]\n",
    "    idx_list = [final_idx_list[i] for i in idx_list]\n",
    "    idx_to_del += idx_list"
   ]
  },
  {
   "cell_type": "code",
   "execution_count": null,
   "metadata": {
    "id": "7AkOqIaWBLP6"
   },
   "outputs": [],
   "source": [
    "final_cycles_tracking = final_cycles_tracking[~final_cycles_tracking[\"index\"].isin(idx_to_del)]"
   ]
  },
  {
   "cell_type": "code",
   "execution_count": null,
   "metadata": {
    "id": "iloFjhDEBLP6"
   },
   "outputs": [],
   "source": [
    "input_cycles_timeseries_onehot = defaultdict()"
   ]
  },
  {
   "cell_type": "code",
   "execution_count": null,
   "metadata": {
    "id": "WXDrnDD4BLP7"
   },
   "outputs": [],
   "source": [
    "output_cycles_timeseries_onehot = defaultdict()"
   ]
  },
  {
   "cell_type": "code",
   "execution_count": null,
   "metadata": {
    "id": "5704ypQnBLP7"
   },
   "outputs": [],
   "source": [
    "def transform_input_per_day(subset_tracking, day, BC_onehot):\n",
    "    tracking_dates = subset_tracking[\"date\"].tolist()\n",
    "    if day not in tracking_dates:\n",
    "        tracking_one_hot = missing_one_hot_day\n",
    "        final = BC_onehot\n",
    "        final.extend(tracking_one_hot)\n",
    "        return final\n",
    "    elif day in tracking_dates:\n",
    "        date_tracking = subset_tracking[subset_tracking[\"date\"] == day]\n",
    "        new_cat_list = date_tracking[\"new_cat\"].tolist()\n",
    "        cat_list = {x[0]: x[1] for x in new_cat_list}\n",
    "        day_one_hot = [[ordinal_variable_encoder[t][cat_list[t]], 0.0] \\\n",
    "                       if (t in cat_list.keys() and t in ordinal_variable_encoder.keys()) \\\n",
    "                       else [1.0] + [1.0 if s == cat_list[t] else 0.0 for s in subcategories[t]] \\\n",
    "                       if (t in cat_list.keys() and t not in ordinal_variable_encoder.keys() and t != \"medication\") \\\n",
    "                       else [1.0] if (t in cat_list.keys() and t not in ordinal_variable_encoder.keys() and t == \"medication\") \\\n",
    "                       else missing_global_cats[t] for t in unique_global_cats]\n",
    "        day_one_hot = list(chain.from_iterable(day_one_hot))\n",
    "        final = BC_onehot\n",
    "        final.extend(day_one_hot)\n",
    "        return final"
   ]
  },
  {
   "cell_type": "code",
   "execution_count": null,
   "metadata": {
    "id": "f7xRA049BLP7",
    "scrolled": true
   },
   "outputs": [],
   "source": [
    "for cycle, values in tqdm(standardized_cycle_days.items()):\n",
    "    input_cycle_25_days = values\n",
    "    subset_tracking = final_cycles_tracking[final_cycles_tracking[\"cycle_id\"] == cycle]\n",
    "    BC_timeseries_onehot = BC_timeseries_cycles[cycle]\n",
    "    final_list = [transform_input_per_day(subset_tracking, d, BC_timeseries_onehot[i].tolist()) for i, d in enumerate(input_cycle_25_days)]\n",
    "    output_cycles_timeseries_onehot[cycle] = final_list"
   ]
  },
  {
   "cell_type": "code",
   "execution_count": null,
   "metadata": {},
   "outputs": [],
   "source": [
    "# make path to save transformed datasets\n",
    "input_data_path = \"input_data_experiments/clue/\"\n",
    "Path(input_data_path).mkdir(parents=True, exist_ok=True)"
   ]
  },
  {
   "cell_type": "code",
   "execution_count": null,
   "metadata": {
    "id": "vVBlLd7dBLRH"
   },
   "outputs": [],
   "source": [
    "final_output_cycles_timeseries_df = pd.DataFrame.from_dict(output_cycles_timeseries_onehot, orient='index')\n",
    "final_output_cycles_timeseries_df.to_pickle(input_data_path + \"final_output_cycles_timeseries_df.pkl\")"
   ]
  },
  {
   "cell_type": "code",
   "execution_count": null,
   "metadata": {
    "id": "77XbexjxBLRI"
   },
   "outputs": [],
   "source": [
    "final_cycles_timeseries_df = pd.DataFrame.from_dict(input_cycles_timeseries_onehot, orient='index')\n",
    "final_cycles_timeseries_df.to_pickle(input_data_path + \"final_cycles_timeseries_df.pkl\")"
   ]
  },
  {
   "cell_type": "code",
   "execution_count": null,
   "metadata": {
    "id": "QIaEV8O9BLRI"
   },
   "outputs": [],
   "source": [
    "def get_input_cycles_timeseries(three_input_cycles):\n",
    "    final_list = []\n",
    "    for x in three_input_cycles:\n",
    "        final_list += input_cycles_timeseries_onehot[x]\n",
    "    return final_list"
   ]
  },
  {
   "cell_type": "code",
   "execution_count": null,
   "metadata": {
    "id": "YgZGlOKuBLRJ"
   },
   "outputs": [],
   "source": [
    "dataset[\"input_one_hot\"] = dataset[\"input_cycles\"].apply(lambda x: get_input_cycles_timeseries(x))\n",
    "dataset[\"input_onehot_len_check\"] = dataset.apply(lambda x: len(x[\"input_one_hot\"]), axis=1)\n",
    "dataset[\"input_onehot_len_check\"].value_counts()"
   ]
  },
  {
   "cell_type": "code",
   "execution_count": null,
   "metadata": {
    "id": "DAWar4nfBLRK"
   },
   "outputs": [],
   "source": [
    "dataset[\"APC_cycles\"] = dataset.apply(lambda x: x[\"input_cycles\"] + x[\"final_output_cycles\"], axis=1)"
   ]
  },
  {
   "cell_type": "code",
   "execution_count": null,
   "metadata": {},
   "outputs": [],
   "source": [
    "dataset[\"APC_input_one_hot\"] = dataset[\"APC_cycles\"].apply(lambda x: get_input_cycles_timeseries(x))"
   ]
  },
  {
   "cell_type": "markdown",
   "metadata": {
    "id": "IcbnmgIKBLRP"
   },
   "source": [
    "### add baseline symptoms - when the user is OFF \n",
    "\n",
    "- median CL\n",
    "- var CL\n",
    "- average occurences of symptoms over all cycles OFF"
   ]
  },
  {
   "cell_type": "code",
   "execution_count": null,
   "metadata": {
    "id": "BzhTjdUdBLRQ"
   },
   "outputs": [],
   "source": [
    "dataset[\"starting_date_3_cycles\"] = dataset[\"input_cycles_25_dates\"].apply(lambda x: x[0])"
   ]
  },
  {
   "cell_type": "code",
   "execution_count": null,
   "metadata": {
    "id": "s5CgE_t8BLRQ"
   },
   "outputs": [],
   "source": [
    "tracking = pd.merge(tracking, cycles[[\"unique_cycle_id\", \"cycle_length\"]], how=\"left\", left_on=\"cycle_id\", right_on=\"unique_cycle_id\")"
   ]
  },
  {
   "cell_type": "code",
   "execution_count": null,
   "metadata": {
    "id": "g3RN_oV0BLRQ"
   },
   "outputs": [],
   "source": [
    "OFF_tracking = tracking[tracking[\"birth_control\"] == \"OFF\"]"
   ]
  },
  {
   "cell_type": "code",
   "execution_count": null,
   "metadata": {
    "id": "GUPTDVc1BLRR"
   },
   "outputs": [],
   "source": [
    "def get_max_cycle_symptoms_OFF(value_counts_list):\n",
    "    max_dict = {}\n",
    "    for i, d in enumerate(value_counts_list):\n",
    "        for k, v in d.items():\n",
    "            if k not in max_dict.keys():\n",
    "                max_dict[k] = v\n",
    "            elif (k in max_dict.keys() and v > max_dict[k]):\n",
    "                max_dict[k] = v\n",
    "            else:\n",
    "                continue\n",
    "    return max_dict"
   ]
  },
  {
   "cell_type": "code",
   "execution_count": null,
   "metadata": {
    "id": "TgdjudfABLRR"
   },
   "outputs": [],
   "source": [
    "def get_min_cycle_symptoms_OFF(value_counts_list):\n",
    "    min_dict = {}\n",
    "    for i, d in enumerate(value_counts_list):\n",
    "        for k, v in d.items():\n",
    "            if k not in min_dict.keys():\n",
    "                min_dict[k] = v\n",
    "            elif (k in min_dict.keys() and v < min_dict[k]):\n",
    "                min_dict[k] = v\n",
    "            else:\n",
    "                continue\n",
    "    return min_dict"
   ]
  },
  {
   "cell_type": "code",
   "execution_count": null,
   "metadata": {
    "id": "lsnP4-9KBLRR",
    "scrolled": true
   },
   "outputs": [],
   "source": [
    "baseline_OFF_per_users = defaultdict()\n",
    "for u, values in tqdm(OFF_tracking.groupby([\"anon_id\"])):\n",
    "    cycles_OFF = values[\"cycle_id\"].tolist()\n",
    "    OFF_dates = values[\"date\"].tolist()\n",
    "    baseline_OFF_per_users[u] = defaultdict()\n",
    "    if len(cycles_OFF) == 1:\n",
    "        median_CL_OFF = values[\"cycle_length\"].tolist()[0]\n",
    "        var_CL_OFF = 0\n",
    "        avg_cycle_symptoms_OFF = values[\"new_cat\"].value_counts().to_dict()\n",
    "        max_cycle_symptoms_OFF = avg_cycle_symptoms_OFF\n",
    "        min_cycle_symptoms_OFF = avg_cycle_symptoms_OFF\n",
    "        global_avg_symptoms_OFF = values[\"category\"].value_counts().to_dict()\n",
    "        baseline_OFF_per_users[u][\"median_CL_OFF\"] = median_CL_OFF\n",
    "        baseline_OFF_per_users[u][\"var_CL_OFF\"] = var_CL_OFF\n",
    "        baseline_OFF_per_users[u][\"max_cycle_symptoms_OFF\"] = max_cycle_symptoms_OFF\n",
    "        baseline_OFF_per_users[u][\"min_cycle_symptoms_OFF\"] = min_cycle_symptoms_OFF\n",
    "        baseline_OFF_per_users[u][\"avg_cycle_symptoms_OFF\"] = avg_cycle_symptoms_OFF\n",
    "        baseline_OFF_per_users[u][\"global_avg_symptoms_OFF\"] = global_avg_symptoms_OFF\n",
    "        baseline_OFF_per_users[u][\"dates_OFF\"] = (min(OFF_dates), max(OFF_dates))\n",
    "    elif len(cycles_OFF) > 1:\n",
    "        no_duplicates = values.drop_duplicates(subset='cycle_id', keep=\"first\")\n",
    "        median_CL_OFF = np.median(no_duplicates[\"cycle_length\"])\n",
    "        var_CL_OFF = np.var(no_duplicates[\"cycle_length\"])\n",
    "        counter_list = [Counter(values[values[\"cycle_id\"] == x][\"new_cat\"].value_counts().to_dict()) for x in cycles_OFF]\n",
    "        z = sum(counter_list, Counter())\n",
    "        avg_cycle_symptoms_OFF = {k: v/len(cycles_OFF) for k, v in z.items()}\n",
    "        value_counts_list = [values[values[\"cycle_id\"] == x][\"new_cat\"].value_counts().to_dict() for x in cycles_OFF]\n",
    "        max_cycle_symptoms_OFF = get_max_cycle_symptoms_OFF(value_counts_list)\n",
    "        min_cycle_symptoms_OFF = get_min_cycle_symptoms_OFF(value_counts_list)\n",
    "        global_counter_list = [Counter(values[values[\"cycle_id\"] == x][\"category\"].value_counts().to_dict()) for x in cycles_OFF]\n",
    "        z_global = sum(global_counter_list, Counter())\n",
    "        global_avg_symptoms_OFF = {k: v/len(cycles_OFF) for k, v in z_global.items()}\n",
    "        baseline_OFF_per_users[u][\"median_CL_OFF\"] = median_CL_OFF\n",
    "        baseline_OFF_per_users[u][\"var_CL_OFF\"] = var_CL_OFF\n",
    "        baseline_OFF_per_users[u][\"max_cycle_symptoms_OFF\"] = max_cycle_symptoms_OFF\n",
    "        baseline_OFF_per_users[u][\"min_cycle_symptoms_OFF\"] = min_cycle_symptoms_OFF\n",
    "        baseline_OFF_per_users[u][\"avg_cycle_symptoms_OFF\"] = avg_cycle_symptoms_OFF\n",
    "        baseline_OFF_per_users[u][\"global_avg_symptoms_OFF\"] = global_avg_symptoms_OFF\n",
    "        baseline_OFF_per_users[u][\"dates_OFF\"] = (min(OFF_dates), max(OFF_dates))"
   ]
  },
  {
   "cell_type": "code",
   "execution_count": null,
   "metadata": {
    "id": "xD6crD3mBLRV"
   },
   "outputs": [],
   "source": [
    "OFF_users = list(baseline_OFF_per_users.keys())"
   ]
  },
  {
   "cell_type": "code",
   "execution_count": null,
   "metadata": {
    "id": "4-cddVt5BLRV"
   },
   "outputs": [],
   "source": [
    "not_OFF_users = np.unique(dataset[~dataset[\"anon_id\"].isin(OFF_users)][\"anon_id\"].tolist())"
   ]
  },
  {
   "cell_type": "code",
   "execution_count": null,
   "metadata": {
    "id": "g2eZ_cNFBLRV"
   },
   "outputs": [],
   "source": [
    "for u in tqdm(not_OFF_users):\n",
    "    baseline_OFF_per_users[u] = defaultdict()\n",
    "    baseline_OFF_per_users[u][\"median_CL_OFF\"] = np.nan\n",
    "    baseline_OFF_per_users[u][\"var_CL_OFF\"] = np.nan\n",
    "    baseline_OFF_per_users[u][\"max_cycle_symptoms_OFF\"] = np.nan\n",
    "    baseline_OFF_per_users[u][\"min_cycle_symptoms_OFF\"] = np.nan\n",
    "    baseline_OFF_per_users[u][\"avg_cycle_symptoms_OFF\"] = np.nan\n",
    "    baseline_OFF_per_users[u][\"global_avg_symptoms_OFF\"] = np.nan\n",
    "    baseline_OFF_per_users[u][\"dates_OFF\"] = np.nan"
   ]
  },
  {
   "cell_type": "code",
   "execution_count": null,
   "metadata": {
    "id": "PoR9vbEwBLRW"
   },
   "outputs": [],
   "source": [
    "OFF_unique_cats = [x for x in unique_categories if x[0] != 'pill_hbc']"
   ]
  },
  {
   "cell_type": "code",
   "execution_count": null,
   "metadata": {
    "id": "_jCZvvjvBLRW"
   },
   "outputs": [],
   "source": [
    "def get_vector_avg_sympt_input_cycles(avg_sympt_dict, unique_categories):\n",
    "    return [avg_sympt_dict[t] if t in avg_sympt_dict.keys() else 0 for t in OFF_unique_cats]"
   ]
  },
  {
   "cell_type": "code",
   "execution_count": null,
   "metadata": {
    "id": "xp6jIS8gBLRW"
   },
   "outputs": [],
   "source": [
    "def get_baseline_OFF(user, third_cycle_end):\n",
    "    dates_OFF = baseline_OFF_per_users[user][\"dates_OFF\"] \n",
    "    if isinstance(dates_OFF, tuple):\n",
    "        latest_OFF_date = dates_OFF[1]\n",
    "        if latest_OFF_date < third_cycle_end:\n",
    "            median_CL_OFF = baseline_OFF_per_users[user][\"median_CL_OFF\"]\n",
    "            var_CL_OFF = baseline_OFF_per_users[user][\"var_CL_OFF\"]\n",
    "            avg_cycle_symptoms_OFF = baseline_OFF_per_users[user][\"avg_cycle_symptoms_OFF\"]\n",
    "            min_cycle_symptoms_OFF = baseline_OFF_per_users[user][\"min_cycle_symptoms_OFF\"]\n",
    "            max_cycle_symptoms_OFF = baseline_OFF_per_users[user][\"max_cycle_symptoms_OFF\"]\n",
    "            global_avg_symptoms_OFF = baseline_OFF_per_users[user][\"global_avg_symptoms_OFF\"]\n",
    "        else:\n",
    "            median_CL_OFF = np.nan\n",
    "            var_CL_OFF = np.nan\n",
    "            avg_cycle_symptoms_OFF = np.nan\n",
    "            min_cycle_symptoms_OFF = np.nan\n",
    "            max_cycle_symptoms_OFF = np.nan\n",
    "            global_avg_symptoms_OFF = np.nan \n",
    "    elif np.isnan(dates_OFF):\n",
    "        median_CL_OFF = np.nan\n",
    "        var_CL_OFF = np.nan\n",
    "        avg_cycle_symptoms_OFF = np.nan\n",
    "        min_cycle_symptoms_OFF = np.nan\n",
    "        max_cycle_symptoms_OFF = np.nan\n",
    "        global_avg_symptoms_OFF = np.nan\n",
    "        \n",
    "    return median_CL_OFF, var_CL_OFF, avg_cycle_symptoms_OFF, min_cycle_symptoms_OFF, max_cycle_symptoms_OFF, global_avg_symptoms_OFF"
   ]
  },
  {
   "cell_type": "code",
   "execution_count": null,
   "metadata": {
    "id": "zOZ2Rw0CBLRW"
   },
   "outputs": [],
   "source": [
    "dataset['median_CL_base_OFF'],  dataset['var_CL_base_OFF'], dataset['avg_cycle_symptoms_base_OFF'], dataset['min_cycle_symptoms_OFF'], dataset['max_cycle_symptoms_OFF'], dataset['global_avg_symptoms_OFF'] = zip(*dataset.apply(lambda x: get_baseline_OFF(x[\"anon_id\"], x[\"third_cycle_end\"]), axis=1))"
   ]
  },
  {
   "cell_type": "code",
   "execution_count": null,
   "metadata": {
    "id": "t1JFt0duBLRW"
   },
   "outputs": [],
   "source": [
    "missingness_vector = [0.0, 0.0, 0.0, 0.0, 1.0, 0.0, 0.0, 0.0, 1.0, 0.0, 0.0, 0.0, 1.0, 0.0, 0.0, 0.0, 1.0, 0.0, 0.0, 0.0, 0.0, 1.0, 0.0, 0.0, 0.0, 1.0, 0.0, 0.0, 0.0, 1.0, 0.0, 0.0, 0.0, 1.0, 0.0, 0.0, 0.0, 0.0, 1.0, 0.0, 0.0, 0.0, 1.0, 0.0, 0.0, 0.0, 1.0, 0.0, 0.0, 0.0, 1.0, 0.0, 0.0, 0.0, 0.0, 1.0, 0.0, 0.0, 0.0, 1.0, 0.0, 0.0, 0.0, 1.0, 0.0, 0.0, 0.0, 1.0, 0.0, 0.0, 0.0, 0.0, 1.0, 0.0, 0.0, 0.0, 1.0, 0.0, 0.0, 0.0, 0.0, 1.0, 0.0, 0.0, 0.0, 1.0, 0.0, 0.0, 0.0, 1.0, 0.0, 0.0, 0.0, 1.0, 0.0, 0.0, 0.0, 0.0, 1.0, 0.0, 0.0, 0.0, 1.0, 0.0, 0.0, 0.0, 1.0, 0.0, 0.0, 0.0, 1.0, 0.0, 0.0, 0.0, 1.0, 0.0, 0.0, 0.0, 0.0, 1.0, 0.0, 0.0, 0.0, 1.0]"
   ]
  },
  {
   "cell_type": "code",
   "execution_count": null,
   "metadata": {
    "id": "CZ7QVRwpBLRX"
   },
   "outputs": [],
   "source": [
    "all_subcats = {\n",
    "    'period': ['spotting', 'light', 'medium', 'heavy'],\n",
    "    'pain': ['cramps', 'headache', 'ovulation_pain', 'tender_breasts'],\n",
    "    'energy': ['exhausted', 'low_energy', 'energized', 'high_energy'],\n",
    "    'emotion': ['happy', 'sad', 'sensitive_emotion', 'pms'],\n",
    "    'motivation': ['unmotivated', 'motivated'],\n",
    "    'mental': ['calm', 'focused', 'distracted', 'stressed'],\n",
    "    'social': ['conflict_social', 'withdrawn_social', 'sociable', 'supportive_social'],\n",
    "    'productivity': ['unproductive', 'productive']\n",
    "}"
   ]
  },
  {
   "cell_type": "code",
   "execution_count": null,
   "metadata": {
    "id": "9Lu70sD2BLRX"
   },
   "outputs": [],
   "source": [
    "missing_cats = {\n",
    "    'emotion': [0.0, 0.0, 0.0, 0.0, 1.0, 0.0, 0.0, 0.0, 1.0, 0.0, 0.0, 0.0, 1.0, 0.0, 0.0, 0.0, 1.0],\n",
    "    'energy': [0.0, 0.0, 0.0, 0.0, 1.0, 0.0, 0.0, 0.0, 1.0, 0.0, 0.0, 0.0, 1.0, 0.0, 0.0, 0.0, 1.0],\n",
    "    'medication': [0.0, 0.0, 0.0, 1.0],\n",
    "    'mental': [0.0, 0.0, 0.0, 0.0, 1.0, 0.0, 0.0, 0.0, 1.0, 0.0, 0.0, 0.0, 1.0, 0.0, 0.0, 0.0, 1.0],\n",
    "    'motivation': [0.0, 0.0, 0.0, 0.0, 1.0, 0.0, 0.0, 0.0, 1.0],\n",
    "    'pain': [0.0, 0.0, 0.0, 0.0, 1.0, 0.0, 0.0, 0.0, 1.0, 0.0, 0.0, 0.0, 1.0, 0.0, 0.0, 0.0, 1.0],\n",
    "    'period': [0.0, 0.0, 0.0, 0.0, 1.0, 0.0, 0.0, 0.0, 1.0, 0.0, 0.0, 0.0, 1.0, 0.0, 0.0, 0.0, 1.0],\n",
    "    'productivity': [0.0, 0.0, 0.0, 0.0, 1.0, 0.0, 0.0, 0.0, 1.0],\n",
    "    'social': [0.0, 0.0, 0.0, 0.0, 1.0, 0.0, 0.0, 0.0, 1.0, 0.0, 0.0, 0.0, 1.0, 0.0, 0.0, 0.0, 1.0]\n",
    "}"
   ]
  },
  {
   "cell_type": "code",
   "execution_count": null,
   "metadata": {
    "id": "fodyugt_BLRX"
   },
   "outputs": [],
   "source": [
    "OFF_unique_global_cats = [x for x in unique_global_cats if x != \"pill_hbc\"]"
   ]
  },
  {
   "cell_type": "code",
   "execution_count": null,
   "metadata": {
    "id": "dJmxkhrnBLRX"
   },
   "outputs": [],
   "source": [
    "def get_baseline_OFF_vector(row, OFF_unique_global_cats):\n",
    "    OFF_vector = []\n",
    "    if not pd.notnull(row[\"median_CL_base_OFF\"]):\n",
    "        return [0.0, 0.0] + missingness_vector\n",
    "    elif isinstance(row[\"global_avg_symptoms_OFF\"], dict):\n",
    "        OFF_vector.append(row[\"median_CL_base_OFF\"])\n",
    "        OFF_vector.append(row[\"var_CL_base_OFF\"])\n",
    "        for cat in OFF_unique_global_cats:\n",
    "            if cat not in row[\"global_avg_symptoms_OFF\"]:\n",
    "                ext = missing_cats[cat]\n",
    "                OFF_vector.extend(ext)\n",
    "            else:\n",
    "                if cat != \"medication\":\n",
    "                    OFF_vector.append(float(row[\"global_avg_symptoms_OFF\"][cat]))\n",
    "                    for sub_cat in all_subcats[cat]:\n",
    "                        if (cat, sub_cat) in row[\"avg_cycle_symptoms_base_OFF\"]:\n",
    "                            avg_subcat = row[\"avg_cycle_symptoms_base_OFF\"][(cat, sub_cat)]\n",
    "                            OFF_vector.append(float(avg_subcat))\n",
    "                            min_subcat = row[\"min_cycle_symptoms_OFF\"][(cat, sub_cat)]\n",
    "                            OFF_vector.append(float(min_subcat))\n",
    "                            max_subcat = row[\"max_cycle_symptoms_OFF\"][(cat, sub_cat)]\n",
    "                            OFF_vector.append(float(max_subcat))\n",
    "                            missingness = 0.0\n",
    "                            OFF_vector.append(missingness)\n",
    "                        elif (cat, sub_cat) not in row[\"avg_cycle_symptoms_base_OFF\"]:\n",
    "                            avg_subcat = 0.0\n",
    "                            OFF_vector.append(avg_subcat)\n",
    "                            min_subcat = 0.0\n",
    "                            OFF_vector.append(min_subcat)\n",
    "                            max_subcat = 0.0\n",
    "                            OFF_vector.append(max_subcat)\n",
    "                            missingness = 1.0\n",
    "                            OFF_vector.append(missingness)\n",
    "                elif cat == \"medication\":\n",
    "                    sub_cat = \"pain_medication\"\n",
    "                    if (cat, sub_cat) in row[\"avg_cycle_symptoms_base_OFF\"]:\n",
    "                            avg_subcat = row[\"avg_cycle_symptoms_base_OFF\"][(cat, sub_cat)]\n",
    "                            OFF_vector.append(float(avg_subcat))\n",
    "                            min_subcat = row[\"min_cycle_symptoms_OFF\"][(cat, sub_cat)]\n",
    "                            OFF_vector.append(float(min_subcat))\n",
    "                            max_subcat = row[\"max_cycle_symptoms_OFF\"][(cat, sub_cat)]\n",
    "                            OFF_vector.append(float(max_subcat))\n",
    "                            missingness = 0.0\n",
    "                            OFF_vector.append(missingness)\n",
    "                    elif (cat, sub_cat) not in row[\"avg_cycle_symptoms_base_OFF\"]:\n",
    "                        avg_subcat = 0.0\n",
    "                        OFF_vector.append(avg_subcat)\n",
    "                        min_subcat = 0.0\n",
    "                        OFF_vector.append(min_subcat)\n",
    "                        max_subcat = 0.0\n",
    "                        OFF_vector.append(max_subcat)\n",
    "                        missingness = 1.0\n",
    "                        OFF_vector.append(missingness)\n",
    "        return OFF_vector"
   ]
  },
  {
   "cell_type": "code",
   "execution_count": null,
   "metadata": {
    "id": "wMO-PhsyBLRY"
   },
   "outputs": [],
   "source": [
    "dataset[\"baseline_OFF_vector\"] = dataset.apply(lambda x: get_baseline_OFF_vector(x, OFF_unique_global_cats), axis=1)"
   ]
  },
  {
   "cell_type": "code",
   "execution_count": null,
   "metadata": {
    "id": "UAgDbMQZBLRY"
   },
   "outputs": [],
   "source": [
    "dataset[\"baseline_OFF_vector_len_check\"] = dataset.apply(lambda x: len(x[\"baseline_OFF_vector\"]), axis=1)"
   ]
  },
  {
   "cell_type": "markdown",
   "metadata": {},
   "source": [
    "### Turn baseline OFF vector into static input categories"
   ]
  },
  {
   "cell_type": "code",
   "execution_count": null,
   "metadata": {},
   "outputs": [],
   "source": [
    "dataset[\"median_CL_OFF\"] = dataset[\"baseline_OFF_vector\"].apply(lambda x: x[0])\n",
    "dataset[\"var_CL_OFF\"] = dataset[\"baseline_OFF_vector\"].apply(lambda x: x[1])\n",
    "\n",
    "# period\n",
    "dataset[\"period_avg_OFF\"] = dataset[\"baseline_OFF_vector\"].apply(lambda x: x[2])\n",
    "\n",
    "dataset[\"period_spotting_avg_OFF\"] = dataset[\"baseline_OFF_vector\"].apply(lambda x: x[3])\n",
    "dataset[\"period_spotting_min_OFF\"] = dataset[\"baseline_OFF_vector\"].apply(lambda x: x[4])\n",
    "dataset[\"period_spotting_max_OFF\"] = dataset[\"baseline_OFF_vector\"].apply(lambda x: x[5])\n",
    "dataset[\"period_spotting_missing_OFF\"] = dataset[\"baseline_OFF_vector\"].apply(lambda x: x[6])\n",
    "\n",
    "dataset[\"period_light_avg_OFF\"] = dataset[\"baseline_OFF_vector\"].apply(lambda x: x[7])\n",
    "dataset[\"period_light_min_OFF\"] = dataset[\"baseline_OFF_vector\"].apply(lambda x: x[8])\n",
    "dataset[\"period_light_max_OFF\"] = dataset[\"baseline_OFF_vector\"].apply(lambda x: x[9])\n",
    "dataset[\"period_light_missing_OFF\"] = dataset[\"baseline_OFF_vector\"].apply(lambda x: x[10])\n",
    "\n",
    "dataset[\"period_medium_avg_OFF\"] = dataset[\"baseline_OFF_vector\"].apply(lambda x: x[11])\n",
    "dataset[\"period_medium_min_OFF\"] = dataset[\"baseline_OFF_vector\"].apply(lambda x: x[12])\n",
    "dataset[\"period_medium_max_OFF\"] = dataset[\"baseline_OFF_vector\"].apply(lambda x: x[13])\n",
    "dataset[\"period_medium_missing_OFF\"] = dataset[\"baseline_OFF_vector\"].apply(lambda x: x[14])\n",
    "\n",
    "dataset[\"period_heavy_avg_OFF\"] = dataset[\"baseline_OFF_vector\"].apply(lambda x: x[15])\n",
    "dataset[\"period_heavy_min_OFF\"] = dataset[\"baseline_OFF_vector\"].apply(lambda x: x[16])\n",
    "dataset[\"period_heavy_max_OFF\"] = dataset[\"baseline_OFF_vector\"].apply(lambda x: x[17])\n",
    "dataset[\"period_heavy_missing_OFF\"] = dataset[\"baseline_OFF_vector\"].apply(lambda x: x[18])\n",
    "\n",
    "#pain\n",
    "dataset[\"pain_avg_OFF\"] = dataset[\"baseline_OFF_vector\"].apply(lambda x: x[19])\n",
    "\n",
    "dataset[\"pain_cramps_avg_OFF\"] = dataset[\"baseline_OFF_vector\"].apply(lambda x: x[20])\n",
    "dataset[\"pain_cramps_min_OFF\"] = dataset[\"baseline_OFF_vector\"].apply(lambda x: x[21])\n",
    "dataset[\"pain_cramps_max_OFF\"] = dataset[\"baseline_OFF_vector\"].apply(lambda x: x[22])\n",
    "dataset[\"pain_cramps_missing_OFF\"] = dataset[\"baseline_OFF_vector\"].apply(lambda x: x[23])\n",
    "\n",
    "dataset[\"pain_headache_avg_OFF\"] = dataset[\"baseline_OFF_vector\"].apply(lambda x: x[24])\n",
    "dataset[\"pain_headache_min_OFF\"] = dataset[\"baseline_OFF_vector\"].apply(lambda x: x[25])\n",
    "dataset[\"pain_headache_max_OFF\"] = dataset[\"baseline_OFF_vector\"].apply(lambda x: x[26])\n",
    "dataset[\"pain_headache_missing_OFF\"] = dataset[\"baseline_OFF_vector\"].apply(lambda x: x[27])\n",
    "\n",
    "dataset[\"pain_ovulation_avg_OFF\"] = dataset[\"baseline_OFF_vector\"].apply(lambda x: x[28])\n",
    "dataset[\"pain_ovulation_min_OFF\"] = dataset[\"baseline_OFF_vector\"].apply(lambda x: x[29])\n",
    "dataset[\"pain_ovulation_max_OFF\"] = dataset[\"baseline_OFF_vector\"].apply(lambda x: x[30])\n",
    "dataset[\"pain_ovulation_missing_OFF\"] = dataset[\"baseline_OFF_vector\"].apply(lambda x: x[31])\n",
    "\n",
    "dataset[\"pain_tender_breasts_avg_OFF\"] = dataset[\"baseline_OFF_vector\"].apply(lambda x: x[32])\n",
    "dataset[\"pain_tender_breasts_min_OFF\"] = dataset[\"baseline_OFF_vector\"].apply(lambda x: x[33])\n",
    "dataset[\"pain_tender_breasts_max_OFF\"] = dataset[\"baseline_OFF_vector\"].apply(lambda x: x[34])\n",
    "dataset[\"pain_tender_breasts_missing_OFF\"] = dataset[\"baseline_OFF_vector\"].apply(lambda x: x[35])\n",
    "\n",
    "\n",
    "#productivity\n",
    "dataset[\"productivity_avg_OFF\"] = dataset[\"baseline_OFF_vector\"].apply(lambda x: x[36])\n",
    "\n",
    "dataset[\"unproductive_avg_OFF\"] = dataset[\"baseline_OFF_vector\"].apply(lambda x: x[37])\n",
    "dataset[\"unproductive_min_OFF\"] = dataset[\"baseline_OFF_vector\"].apply(lambda x: x[38])\n",
    "dataset[\"unproductive_max_OFF\"] = dataset[\"baseline_OFF_vector\"].apply(lambda x: x[39])\n",
    "dataset[\"unproductive_missing_OFF\"] = dataset[\"baseline_OFF_vector\"].apply(lambda x: x[40])\n",
    "\n",
    "dataset[\"productive_avg_OFF\"] = dataset[\"baseline_OFF_vector\"].apply(lambda x: x[41])\n",
    "dataset[\"productive_min_OFF\"] = dataset[\"baseline_OFF_vector\"].apply(lambda x: x[42])\n",
    "dataset[\"productive_max_OFF\"] = dataset[\"baseline_OFF_vector\"].apply(lambda x: x[43])\n",
    "dataset[\"productive_missing_OFF\"] = dataset[\"baseline_OFF_vector\"].apply(lambda x: x[44])\n",
    "\n",
    "#social\n",
    "dataset[\"social_avg_OFF\"] = dataset[\"baseline_OFF_vector\"].apply(lambda x: x[45])\n",
    "\n",
    "dataset[\"conflict_social_avg_OFF\"] = dataset[\"baseline_OFF_vector\"].apply(lambda x: x[46])\n",
    "dataset[\"conflict_social_min_OFF\"] = dataset[\"baseline_OFF_vector\"].apply(lambda x: x[47])\n",
    "dataset[\"conflict_social_max_OFF\"] = dataset[\"baseline_OFF_vector\"].apply(lambda x: x[48])\n",
    "dataset[\"conflict_social_missing_OFF\"] = dataset[\"baseline_OFF_vector\"].apply(lambda x: x[49])\n",
    "\n",
    "dataset[\"withdrawn_social_avg_OFF\"] = dataset[\"baseline_OFF_vector\"].apply(lambda x: x[50])\n",
    "dataset[\"withdrawn_social_min_OFF\"] = dataset[\"baseline_OFF_vector\"].apply(lambda x: x[51])\n",
    "dataset[\"withdrawn_social_max_OFF\"] = dataset[\"baseline_OFF_vector\"].apply(lambda x: x[52])\n",
    "dataset[\"withdrawn_social_missing_OFF\"] = dataset[\"baseline_OFF_vector\"].apply(lambda x: x[53])\n",
    "\n",
    "dataset[\"sociable_avg_OFF\"] = dataset[\"baseline_OFF_vector\"].apply(lambda x: x[54])\n",
    "dataset[\"sociable_min_OFF\"] = dataset[\"baseline_OFF_vector\"].apply(lambda x: x[55])\n",
    "dataset[\"sociable_max_OFF\"] = dataset[\"baseline_OFF_vector\"].apply(lambda x: x[56])\n",
    "dataset[\"sociable_missing_OFF\"] = dataset[\"baseline_OFF_vector\"].apply(lambda x: x[57])\n",
    "\n",
    "dataset[\"supportive_social_avg_OFF\"] = dataset[\"baseline_OFF_vector\"].apply(lambda x: x[58])\n",
    "dataset[\"supportive_social_min_OFF\"] = dataset[\"baseline_OFF_vector\"].apply(lambda x: x[59])\n",
    "dataset[\"supportive_social_max_OFF\"] = dataset[\"baseline_OFF_vector\"].apply(lambda x: x[60])\n",
    "dataset[\"supportive_social_missing_OFF\"] = dataset[\"baseline_OFF_vector\"].apply(lambda x: x[61])\n",
    "\n",
    "#energy\n",
    "dataset[\"energy_avg_OFF\"] = dataset[\"baseline_OFF_vector\"].apply(lambda x: x[62])\n",
    "\n",
    "dataset[\"energy_exhausted_avg_OFF\"] = dataset[\"baseline_OFF_vector\"].apply(lambda x: x[63])\n",
    "dataset[\"energy_exhausted_min_OFF\"] = dataset[\"baseline_OFF_vector\"].apply(lambda x: x[64])\n",
    "dataset[\"energy_exhausted_max_OFF\"] = dataset[\"baseline_OFF_vector\"].apply(lambda x: x[65])\n",
    "dataset[\"energy_exhausted_missing_OFF\"] = dataset[\"baseline_OFF_vector\"].apply(lambda x: x[66])\n",
    "\n",
    "dataset[\"low_energy_avg_OFF\"] = dataset[\"baseline_OFF_vector\"].apply(lambda x: x[67])\n",
    "dataset[\"low_energy_min_OFF\"] = dataset[\"baseline_OFF_vector\"].apply(lambda x: x[68])\n",
    "dataset[\"low_energy_max_OFF\"] = dataset[\"baseline_OFF_vector\"].apply(lambda x: x[69])\n",
    "dataset[\"low_energy_missing_OFF\"] = dataset[\"baseline_OFF_vector\"].apply(lambda x: x[70])\n",
    "\n",
    "dataset[\"energized_avg_OFF\"] = dataset[\"baseline_OFF_vector\"].apply(lambda x: x[71])\n",
    "dataset[\"energized_min_OFF\"] = dataset[\"baseline_OFF_vector\"].apply(lambda x: x[72])\n",
    "dataset[\"energized_max_OFF\"] = dataset[\"baseline_OFF_vector\"].apply(lambda x: x[73])\n",
    "dataset[\"energized_missing_OFF\"] = dataset[\"baseline_OFF_vector\"].apply(lambda x: x[74])\n",
    "\n",
    "dataset[\"high_energy_avg_OFF\"] = dataset[\"baseline_OFF_vector\"].apply(lambda x: x[75])\n",
    "dataset[\"high_energy_min_OFF\"] = dataset[\"baseline_OFF_vector\"].apply(lambda x: x[76])\n",
    "dataset[\"high_energy_max_OFF\"] = dataset[\"baseline_OFF_vector\"].apply(lambda x: x[77])\n",
    "dataset[\"high_energy_missing_OFF\"] = dataset[\"baseline_OFF_vector\"].apply(lambda x: x[78])\n",
    "\n",
    "\n",
    "#medication\n",
    "dataset[\"pain_medication_avg_OFF\"] = dataset[\"baseline_OFF_vector\"].apply(lambda x: x[79])\n",
    "dataset[\"pain_medication_min_OFF\"] = dataset[\"baseline_OFF_vector\"].apply(lambda x: x[80])\n",
    "dataset[\"pain_medication_max_OFF\"] = dataset[\"baseline_OFF_vector\"].apply(lambda x: x[81])\n",
    "dataset[\"pain_medication_missing_OFF\"] = dataset[\"baseline_OFF_vector\"].apply(lambda x: x[82])\n",
    "\n",
    "\n",
    "#emotion\n",
    "dataset[\"emotion_avg_OFF\"] = dataset[\"baseline_OFF_vector\"].apply(lambda x: x[83])\n",
    "\n",
    "dataset[\"emotion_happy_avg_OFF\"] = dataset[\"baseline_OFF_vector\"].apply(lambda x: x[84])\n",
    "dataset[\"emotion_happy_min_OFF\"] = dataset[\"baseline_OFF_vector\"].apply(lambda x: x[85])\n",
    "dataset[\"emotion_happy_max_OFF\"] = dataset[\"baseline_OFF_vector\"].apply(lambda x: x[86])\n",
    "dataset[\"emotion_happy_missing_OFF\"] = dataset[\"baseline_OFF_vector\"].apply(lambda x: x[87])\n",
    "\n",
    "dataset[\"emotion_sad_avg_OFF\"] = dataset[\"baseline_OFF_vector\"].apply(lambda x: x[88])\n",
    "dataset[\"emotion_sad_min_OFF\"] = dataset[\"baseline_OFF_vector\"].apply(lambda x: x[89])\n",
    "dataset[\"emotion_sad_max_OFF\"] = dataset[\"baseline_OFF_vector\"].apply(lambda x: x[90])\n",
    "dataset[\"emotion_sad_missing_OFF\"] = dataset[\"baseline_OFF_vector\"].apply(lambda x: x[91])\n",
    "\n",
    "dataset[\"sensitive_emotion_avg_OFF\"] = dataset[\"baseline_OFF_vector\"].apply(lambda x: x[92])\n",
    "dataset[\"sensitive_emotion_min_OFF\"] = dataset[\"baseline_OFF_vector\"].apply(lambda x: x[93])\n",
    "dataset[\"sensitive_emotion_max_OFF\"] = dataset[\"baseline_OFF_vector\"].apply(lambda x: x[94])\n",
    "dataset[\"sensitive_emotion_missing_OFF\"] = dataset[\"baseline_OFF_vector\"].apply(lambda x: x[95])\n",
    "\n",
    "dataset[\"emotion_pms_avg_OFF\"] = dataset[\"baseline_OFF_vector\"].apply(lambda x: x[96])\n",
    "dataset[\"emotion_pms_min_OFF\"] = dataset[\"baseline_OFF_vector\"].apply(lambda x: x[97])\n",
    "dataset[\"emotion_pms_max_OFF\"] = dataset[\"baseline_OFF_vector\"].apply(lambda x: x[98])\n",
    "dataset[\"emotion_pms_missing_OFF\"] = dataset[\"baseline_OFF_vector\"].apply(lambda x: x[99])\n",
    "\n",
    "\n",
    "#mental\n",
    "dataset[\"mental_avg_OFF\"] = dataset[\"baseline_OFF_vector\"].apply(lambda x: x[100])\n",
    "\n",
    "dataset[\"mental_calm_avg_OFF\"] = dataset[\"baseline_OFF_vector\"].apply(lambda x: x[101])\n",
    "dataset[\"mental_calm_min_OFF\"] = dataset[\"baseline_OFF_vector\"].apply(lambda x: x[102])\n",
    "dataset[\"mental_calm_max_OFF\"] = dataset[\"baseline_OFF_vector\"].apply(lambda x: x[103])\n",
    "dataset[\"mental_calm_missing_OFF\"] = dataset[\"baseline_OFF_vector\"].apply(lambda x: x[104])\n",
    "\n",
    "dataset[\"mental_focused_avg_OFF\"] = dataset[\"baseline_OFF_vector\"].apply(lambda x: x[105])\n",
    "dataset[\"mental_focused_min_OFF\"] = dataset[\"baseline_OFF_vector\"].apply(lambda x: x[106])\n",
    "dataset[\"mental_focused_max_OFF\"] = dataset[\"baseline_OFF_vector\"].apply(lambda x: x[107])\n",
    "dataset[\"mental_focused_missing_OFF\"] = dataset[\"baseline_OFF_vector\"].apply(lambda x: x[108])\n",
    "\n",
    "dataset[\"mental_distracted_avg_OFF\"] = dataset[\"baseline_OFF_vector\"].apply(lambda x: x[109])\n",
    "dataset[\"mental_distracted_min_OFF\"] = dataset[\"baseline_OFF_vector\"].apply(lambda x: x[110])\n",
    "dataset[\"mental_distracted_max_OFF\"] = dataset[\"baseline_OFF_vector\"].apply(lambda x: x[111])\n",
    "dataset[\"mental_distracted_missing_OFF\"] = dataset[\"baseline_OFF_vector\"].apply(lambda x: x[112])\n",
    "\n",
    "dataset[\"mental_stressed_avg_OFF\"] = dataset[\"baseline_OFF_vector\"].apply(lambda x: x[113])\n",
    "dataset[\"mental_stressed_min_OFF\"] = dataset[\"baseline_OFF_vector\"].apply(lambda x: x[114])\n",
    "dataset[\"mental_stressed_max_OFF\"] = dataset[\"baseline_OFF_vector\"].apply(lambda x: x[115])\n",
    "dataset[\"mental_stressed_missing_OFF\"] = dataset[\"baseline_OFF_vector\"].apply(lambda x: x[116])\n",
    "\n",
    "\n",
    "#motivation\n",
    "dataset[\"motivation_avg_OFF\"] = dataset[\"baseline_OFF_vector\"].apply(lambda x: x[117])\n",
    "\n",
    "dataset[\"unmotivated_avg_OFF\"] = dataset[\"baseline_OFF_vector\"].apply(lambda x: x[118])\n",
    "dataset[\"unmotivated_min_OFF\"] = dataset[\"baseline_OFF_vector\"].apply(lambda x: x[119])\n",
    "dataset[\"unmotivated_max_OFF\"] = dataset[\"baseline_OFF_vector\"].apply(lambda x: x[120])\n",
    "dataset[\"unmotivated_missing_OFF\"] = dataset[\"baseline_OFF_vector\"].apply(lambda x: x[121])\n",
    "\n",
    "dataset[\"motivated_avg_OFF\"] = dataset[\"baseline_OFF_vector\"].apply(lambda x: x[122])\n",
    "dataset[\"motivated_min_OFF\"] = dataset[\"baseline_OFF_vector\"].apply(lambda x: x[123])\n",
    "dataset[\"motivated_max_OFF\"] = dataset[\"baseline_OFF_vector\"].apply(lambda x: x[124])\n",
    "dataset[\"motivated_missing_OFF\"] = dataset[\"baseline_OFF_vector\"].apply(lambda x: x[125])"
   ]
  },
  {
   "cell_type": "code",
   "execution_count": null,
   "metadata": {},
   "outputs": [],
   "source": [
    "# we want to scale on the non-zero values for standard scaling\n",
    "def scale_column_nonzeros(column):\n",
    "    arr = np.stack(column)\n",
    "    idx_nonzeros = arr.nonzero()[0]\n",
    "    \n",
    "    if len(arr[arr != 0]) == 0:\n",
    "        return column\n",
    "    \n",
    "    arr_nonzeros = arr[arr != 0].reshape(-1, 1)\n",
    "    # scale nonzero values\n",
    "    scaler = StandardScaler().fit(arr_nonzeros)\n",
    "    scaled_nonzeros = scaler.transform(arr_nonzeros)\n",
    "    \n",
    "    for (index, replacement) in zip(idx_nonzeros, scaled_nonzeros):\n",
    "        arr[index] = replacement\n",
    "    \n",
    "    return arr.tolist()"
   ]
  },
  {
   "cell_type": "code",
   "execution_count": null,
   "metadata": {},
   "outputs": [],
   "source": [
    "BASE_OFF_COLS = [\"median_CL_OFF\", \"var_CL_OFF\", \"period_avg_OFF\", \"period_spotting_avg_OFF\", \n",
    "                 \"period_spotting_min_OFF\", \"period_spotting_max_OFF\", \"period_spotting_missing_OFF\",\n",
    "                 \"period_light_avg_OFF\", \"period_light_min_OFF\", \"period_light_max_OFF\", \n",
    "                 \"period_light_missing_OFF\", \"period_medium_avg_OFF\", \"period_medium_min_OFF\",\n",
    "                 \"period_medium_max_OFF\", \"period_medium_missing_OFF\", \"period_heavy_avg_OFF\",\n",
    "                 \"period_heavy_min_OFF\", \"period_heavy_max_OFF\", \"period_heavy_missing_OFF\",\n",
    "                 \"pain_avg_OFF\", \"pain_cramps_avg_OFF\", \"pain_cramps_min_OFF\", \"pain_cramps_max_OFF\",\n",
    "                 \"pain_cramps_missing_OFF\", \"pain_headache_avg_OFF\", \"pain_headache_min_OFF\",\n",
    "                 \"pain_headache_max_OFF\", \"pain_headache_missing_OFF\", \"pain_ovulation_avg_OFF\",\n",
    "                 \"pain_ovulation_min_OFF\", \"pain_ovulation_max_OFF\", \"pain_ovulation_missing_OFF\",\n",
    "                 \"pain_tender_breasts_avg_OFF\", \"pain_tender_breasts_min_OFF\", \"pain_tender_breasts_max_OFF\",\n",
    "                 \"pain_tender_breasts_missing_OFF\", \"energy_avg_OFF\", \"energy_exhausted_avg_OFF\", \n",
    "                 \"energy_exhausted_min_OFF\", \"energy_exhausted_max_OFF\", \"energy_exhausted_missing_OFF\",\n",
    "                 \"low_energy_avg_OFF\", \"low_energy_min_OFF\", \"low_energy_max_OFF\", \"low_energy_missing_OFF\",\n",
    "                 \"energized_avg_OFF\", \"energized_min_OFF\", \"energized_max_OFF\", \"energized_missing_OFF\", \n",
    "                 \"high_energy_avg_OFF\", \"high_energy_min_OFF\", \"high_energy_max_OFF\", \"high_energy_missing_OFF\",\n",
    "                 \"emotion_avg_OFF\", \"emotion_happy_avg_OFF\", \"emotion_happy_min_OFF\", \"emotion_happy_max_OFF\",\n",
    "                 \"emotion_happy_missing_OFF\", \"emotion_sad_avg_OFF\", \"emotion_sad_min_OFF\", \"emotion_sad_max_OFF\",\n",
    "                 \"emotion_sad_missing_OFF\", \"sensitive_emotion_avg_OFF\", \"sensitive_emotion_min_OFF\", \n",
    "                 \"sensitive_emotion_max_OFF\", \"sensitive_emotion_missing_OFF\", \"emotion_pms_avg_OFF\", \n",
    "                 \"emotion_pms_min_OFF\", \"emotion_pms_max_OFF\", \"emotion_pms_missing_OFF\", \"motivation_avg_OFF\",\n",
    "                 \"unmotivated_avg_OFF\", \"unmotivated_min_OFF\", \"unmotivated_max_OFF\", \"unmotivated_missing_OFF\",\n",
    "                 \"motivated_avg_OFF\", \"motivated_min_OFF\", \"motivated_max_OFF\", \"motivated_missing_OFF\", \n",
    "                 \"mental_avg_OFF\", \"mental_calm_avg_OFF\", \"mental_calm_min_OFF\", \"mental_calm_max_OFF\", \n",
    "                 \"mental_calm_missing_OFF\", \"mental_focused_avg_OFF\", \"mental_focused_min_OFF\", \n",
    "                 \"mental_focused_max_OFF\", \"mental_focused_missing_OFF\", \"mental_distracted_avg_OFF\", \n",
    "                 \"mental_distracted_min_OFF\", \"mental_distracted_max_OFF\", \"mental_distracted_missing_OFF\",\n",
    "                 \"mental_stressed_avg_OFF\", \"mental_stressed_min_OFF\", \"mental_stressed_max_OFF\", \n",
    "                 \"mental_stressed_missing_OFF\", \"social_avg_OFF\", \"conflict_social_avg_OFF\", \"conflict_social_min_OFF\",\n",
    "                 \"conflict_social_max_OFF\", \"conflict_social_missing_OFF\", \"withdrawn_social_avg_OFF\", \"withdrawn_social_min_OFF\",\n",
    "                 \"withdrawn_social_max_OFF\", \"withdrawn_social_missing_OFF\", \"sociable_avg_OFF\", \"sociable_min_OFF\",\n",
    "                 \"sociable_max_OFF\", \"sociable_missing_OFF\", \"supportive_social_avg_OFF\", \"supportive_social_min_OFF\",\n",
    "                 \"supportive_social_max_OFF\", \"supportive_social_missing_OFF\", \"pain_medication_avg_OFF\", \"pain_medication_min_OFF\",\n",
    "                 \"pain_medication_max_OFF\", \"pain_medication_missing_OFF\", \"productivity_avg_OFF\", \"unproductive_avg_OFF\",\n",
    "                 \"unproductive_min_OFF\", \"unproductive_max_OFF\", \"unproductive_missing_OFF\", \"productive_avg_OFF\",\n",
    "                 \"productive_min_OFF\", \"productive_max_OFF\", \"productive_missing_OFF\"]"
   ]
  },
  {
   "cell_type": "code",
   "execution_count": null,
   "metadata": {},
   "outputs": [],
   "source": [
    "base_OFF_cols_without_missing = [x for x in BASE_OFF_COLS if \"missing\" not in x]"
   ]
  },
  {
   "cell_type": "code",
   "execution_count": null,
   "metadata": {},
   "outputs": [],
   "source": [
    "for col in base_OFF_cols_without_missing:\n",
    "    dataset[col] = scale_column_nonzeros(dataset[col])"
   ]
  },
  {
   "cell_type": "markdown",
   "metadata": {},
   "source": [
    "### Encode static input categories + output labels"
   ]
  },
  {
   "cell_type": "code",
   "execution_count": null,
   "metadata": {},
   "outputs": [],
   "source": [
    "le = LabelEncoder()\n",
    "le.fit(dataset[\"country\"])\n",
    "dataset[\"country_encoded\"] = le.transform(dataset[\"country\"])"
   ]
  },
  {
   "cell_type": "code",
   "execution_count": null,
   "metadata": {},
   "outputs": [],
   "source": [
    "dataset[\"bc_label_out\"].value_counts(normalize=True) * 100"
   ]
  },
  {
   "cell_type": "code",
   "execution_count": null,
   "metadata": {},
   "outputs": [],
   "source": [
    "dataset = dataset.rename(columns={\"bc_label_out\": \"output\"})"
   ]
  },
  {
   "cell_type": "code",
   "execution_count": null,
   "metadata": {},
   "outputs": [],
   "source": [
    "#set own labels:\n",
    "label_encoder = {\"ON\": 0, \"OFF\": 1, \"OTHER-H\": 2, \"OTHER-NH\": 3}"
   ]
  },
  {
   "cell_type": "code",
   "execution_count": null,
   "metadata": {},
   "outputs": [],
   "source": [
    "dataset['output_cat'] = dataset[\"output\"].map(label_encoder)"
   ]
  },
  {
   "cell_type": "code",
   "execution_count": null,
   "metadata": {},
   "outputs": [],
   "source": [
    "dataset['output_cat'].value_counts(normalize=True) * 100"
   ]
  },
  {
   "cell_type": "markdown",
   "metadata": {},
   "source": [
    "#### fill missing static values with mean"
   ]
  },
  {
   "cell_type": "code",
   "execution_count": null,
   "metadata": {},
   "outputs": [],
   "source": [
    "aux_df = dataset[[\"BMI\", \"current_age\", \"median_CL_inputs\", \"var_CL_inputs\", \"days_on_current_BC\"]]\n",
    "aux_df = aux_df.fillna(aux_df.mean())\n",
    "dataset[[\"BMI\", \"current_age\", \"median_CL_inputs\", \"var_CL_inputs\", \"days_on_current_BC\"]] = aux_df"
   ]
  },
  {
   "cell_type": "code",
   "execution_count": null,
   "metadata": {},
   "outputs": [],
   "source": [
    "static_input_cols = BASE_OFF_COLS + [\"BMI\", \"country_encoded\", \"current_age\", \"median_CL_inputs\", \"var_CL_inputs\", \"days_on_current_BC\"]"
   ]
  },
  {
   "cell_type": "markdown",
   "metadata": {},
   "source": [
    "### prepare APC input data"
   ]
  },
  {
   "cell_type": "code",
   "execution_count": null,
   "metadata": {},
   "outputs": [],
   "source": [
    "def get_full_25_day_one_hot(row):\n",
    "    l = []\n",
    "    for i in range(0, 25):\n",
    "        l.append(row[str(i)])\n",
    "    return l"
   ]
  },
  {
   "cell_type": "code",
   "execution_count": null,
   "metadata": {},
   "outputs": [],
   "source": [
    "final_output_cycles_timeseries_df[\"input_one_hot\"] = final_output_cycles_timeseries_df.apply(lambda x: get_full_25_day_one_hot(x), axis=1)"
   ]
  },
  {
   "cell_type": "code",
   "execution_count": null,
   "metadata": {},
   "outputs": [],
   "source": [
    "def get_output_cycles_timeseries(output_cycles):\n",
    "    final_list = []\n",
    "    for x in output_cycles:\n",
    "        final_list += final_output_cycles_timeseries_df[final_output_cycles_timeseries_df[\"unique_cycle_id\"] == x][\"input_one_hot\"].values[0]\n",
    "    return final_list"
   ]
  },
  {
   "cell_type": "code",
   "execution_count": null,
   "metadata": {},
   "outputs": [],
   "source": [
    "dataset[\"output_one_hot\"] = dataset[\"final_output_cycles\"].apply(lambda x: get_output_cycles_timeseries(x))"
   ]
  },
  {
   "cell_type": "code",
   "execution_count": null,
   "metadata": {},
   "outputs": [],
   "source": [
    "dataset[\"APC_one_hot\"] = dataset[\"input_one_hot\"] + dataset[\"output_one_hot\"]"
   ]
  },
  {
   "cell_type": "code",
   "execution_count": null,
   "metadata": {},
   "outputs": [],
   "source": [
    "dataset[\"len_APC_days\"] = dataset[\"APC_one_hot\"].apply(lambda x: len(x))"
   ]
  },
  {
   "cell_type": "code",
   "execution_count": null,
   "metadata": {},
   "outputs": [],
   "source": [
    "data = dataset[[\"BMI\", \"country_encoded\", \"current_age\", \"median_CL_inputs\", \"var_CL_inputs\", \"APC_one_hot\", \"len_APC_days\", \\\n",
    "                                                 \"days_on_current_BC\", \"input\", \"output_cat\"]]"
   ]
  },
  {
   "cell_type": "code",
   "execution_count": null,
   "metadata": {},
   "outputs": [],
   "source": [
    "data[BASE_OFF_COLS] = dataset[BASE_OFF_COLS].copy()"
   ]
  },
  {
   "cell_type": "markdown",
   "metadata": {},
   "source": [
    "### missing values"
   ]
  },
  {
   "cell_type": "code",
   "execution_count": null,
   "metadata": {},
   "outputs": [],
   "source": [
    "def get_missing_features_per_timestep(timestep):\n",
    "    n_missing = 0\n",
    "    #BC method\n",
    "    if timestep[:5] == [0.0, 0.0, 0.0, 0.0, 1.0]:\n",
    "        n_missing += 1\n",
    "    \n",
    "    #pill_hbc\n",
    "    if timestep[5:10] == [0.0, 0.0, 0.0, 0.0, 0.0]:\n",
    "        n_missing += 1\n",
    "    \n",
    "    #period\n",
    "    if timestep[10:12] == [0.0, 1.0]:\n",
    "        n_missing += 1\n",
    "    \n",
    "    #pain\n",
    "    if timestep[12:17] == [0.0, 0.0, 0.0, 0.0, 0.0]:\n",
    "        n_missing += 1\n",
    "    \n",
    "    #productivity\n",
    "    if timestep[17:19] == [0.0, 1.0]:\n",
    "        n_missing += 1\n",
    "    \n",
    "    #social\n",
    "    if timestep[19:24] == [0.0, 0.0, 0.0, 0.0, 0.0]:\n",
    "        n_missing += 1\n",
    "    \n",
    "    #energy\n",
    "    if timestep[24:26] == [0.0, 1.0]:\n",
    "        n_missing += 1\n",
    "    \n",
    "    #medication\n",
    "    if timestep[26] == [0.0]:\n",
    "        n_missing += 1\n",
    "    \n",
    "    #emotion\n",
    "    if timestep[27:32] == [0.0, 0.0, 0.0, 0.0, 0.0]:\n",
    "        n_missing += 1\n",
    "    \n",
    "    #mental\n",
    "    if timestep[32:37] == [0.0, 0.0, 0.0, 0.0, 0.0]:\n",
    "        n_missing += 1\n",
    "    \n",
    "    #motivation\n",
    "    if timestep[37:] == [0.0, 1.0]:\n",
    "        n_missing += 1\n",
    "    \n",
    "    return n_missing   "
   ]
  },
  {
   "cell_type": "code",
   "execution_count": null,
   "metadata": {},
   "outputs": [],
   "source": [
    "def get_missing_features_per_input_cycles(input_cycles):\n",
    "    n_missing_features = [get_missing_features_per_timestep(timestep) for timestep in input_cycles]\n",
    "    return n_missing_features"
   ]
  },
  {
   "cell_type": "code",
   "execution_count": null,
   "metadata": {},
   "outputs": [],
   "source": [
    "dataset[\"missing_features_per_input\"] = dataset[\"input_one_hot\"].apply(lambda x: get_missing_features_per_input_cycles(x))"
   ]
  },
  {
   "cell_type": "code",
   "execution_count": null,
   "metadata": {},
   "outputs": [],
   "source": [
    "# get percentage of missing values per input - output pair\n",
    "dataset[\"total_missingness\"] = dataset[\"missing_features_per_input\"].apply(lambda x: sum(x))\n",
    "n_features = 11\n",
    "n_time_steps = 75\n",
    "n_total = n_features * n_time_steps\n",
    "dataset[\"total_frac_missingness\"] = dataset[\"total_missingness\"] / n_total"
   ]
  },
  {
   "cell_type": "code",
   "execution_count": null,
   "metadata": {},
   "outputs": [],
   "source": [
    "# average number of missing values \n",
    "dataset[\"total_frac_missingness\"].mean() * 100"
   ]
  },
  {
   "cell_type": "code",
   "execution_count": null,
   "metadata": {},
   "outputs": [],
   "source": [
    "# min number of missing values\n",
    "dataset[\"total_frac_missingness\"].min() * 100"
   ]
  },
  {
   "cell_type": "code",
   "execution_count": null,
   "metadata": {},
   "outputs": [],
   "source": [
    "# max number of missing values\n",
    "dataset[\"total_frac_missingness\"].max() * 100"
   ]
  },
  {
   "cell_type": "markdown",
   "metadata": {},
   "source": [
    "### prepare dataset for GRU-D"
   ]
  },
  {
   "cell_type": "code",
   "execution_count": null,
   "metadata": {},
   "outputs": [],
   "source": [
    "def get_daily_mask_and_inputs_GRUD(input_one_hot_day, output_type):\n",
    "    new_input_values = []\n",
    "    daily_mask = np.ones((34,))\n",
    "    \n",
    "    #BC method\n",
    "    new_input_values += list(input_one_hot_day[:4])\n",
    "    if (input_one_hot_day[:5] == np.array([0.0, 0.0, 0.0, 0.0, 1.0])).all():\n",
    "        daily_mask[:4] = 0\n",
    "    else:\n",
    "        daily_mask[:4] = 1\n",
    "    \n",
    "    #pill_hbc\n",
    "    new_input_values += list(input_one_hot_day[5:10])\n",
    "    if (input_one_hot_day[5:10] == np.array([0.0, 0.0, 0.0, 0.0, 0.0])).all():\n",
    "        daily_mask[4:9] = 0\n",
    "    else:\n",
    "        daily_mask[4:9] = 1\n",
    "    \n",
    "    #period\n",
    "    new_input_values += [input_one_hot_day[10]]\n",
    "    if (input_one_hot_day[10:12] == np.array([0.0, 1.0])).all():\n",
    "        daily_mask[9] = 0\n",
    "    else:\n",
    "        daily_mask[9] = 1\n",
    "    \n",
    "    #pain\n",
    "    new_input_values += list(input_one_hot_day[12:17])\n",
    "    if (input_one_hot_day[12:17] == np.array([0.0, 0.0, 0.0, 0.0, 0.0])).all():\n",
    "        daily_mask[10:15] = 0\n",
    "    else:\n",
    "        daily_mask[10:15] = 1\n",
    "    \n",
    "    #productivity\n",
    "    new_input_values += [input_one_hot_day[17]]\n",
    "    if (input_one_hot_day[17:19] == np.array([0.0, 1.0])).all():\n",
    "        daily_mask[15] = 0\n",
    "    else:\n",
    "        daily_mask[15] = 1\n",
    "    \n",
    "    #social\n",
    "    new_input_values += list(input_one_hot_day[19:24])\n",
    "    if (input_one_hot_day[19:24] == np.array([0.0, 0.0, 0.0, 0.0, 0.0])).all():\n",
    "        daily_mask[16:21] = 0\n",
    "    else:\n",
    "        daily_mask[16:21] = 1\n",
    "    \n",
    "    #energy\n",
    "    new_input_values += [input_one_hot_day[24]]\n",
    "    if (input_one_hot_day[24:26] == np.array([0.0, 1.0])).all():\n",
    "        daily_mask[21] = 0\n",
    "    else:\n",
    "        daily_mask[21] = 1\n",
    "    \n",
    "    #medication\n",
    "    new_input_values += [input_one_hot_day[26]]\n",
    "    if input_one_hot_day[26] == 0.0:\n",
    "        daily_mask[22] = 0\n",
    "    else:\n",
    "        daily_mask[22] = 1\n",
    "    \n",
    "    #emotion\n",
    "    new_input_values += list(input_one_hot_day[27:32])\n",
    "    if (input_one_hot_day[27:32] == np.array([0.0, 0.0, 0.0, 0.0, 0.0])).all():\n",
    "        daily_mask[23:28] = 0\n",
    "    else:\n",
    "        daily_mask[23:28] = 1\n",
    "    \n",
    "    #mental\n",
    "    new_input_values += list(input_one_hot_day[32:37])\n",
    "    if (input_one_hot_day[32:37] == np.array([0.0, 0.0, 0.0, 0.0, 0.0])).all():\n",
    "        daily_mask[28:33] = 0\n",
    "    else:\n",
    "        daily_mask[28:33] = 1\n",
    "    \n",
    "    #motivation\n",
    "    new_input_values += [input_one_hot_day[37]]\n",
    "    if (input_one_hot_day[37:] == np.array([0.0, 1.0])).all():\n",
    "        daily_mask[33] = 0\n",
    "    else:\n",
    "        daily_mask[33] = 1\n",
    "        \n",
    "    new_input_values = np.array(new_input_values)\n",
    "    \n",
    "    if output_type == \"input\":\n",
    "        return new_input_values \n",
    "    elif output_type == \"mask\":\n",
    "        return daily_mask"
   ]
  },
  {
   "cell_type": "code",
   "execution_count": null,
   "metadata": {},
   "outputs": [],
   "source": [
    "def apply_mask_GRUD(input_one_hot):\n",
    "    masked_input = np.apply_along_axis(get_daily_mask_and_inputs_GRUD, 1, input_one_hot)\n",
    "    return masked_input"
   ]
  },
  {
   "cell_type": "code",
   "execution_count": null,
   "metadata": {},
   "outputs": [],
   "source": [
    "data[\"X\"] = data[\"input\"].apply(lambda x: apply_mask_GRUD(x, \"input\"))"
   ]
  },
  {
   "cell_type": "code",
   "execution_count": null,
   "metadata": {},
   "outputs": [],
   "source": [
    "data[\"M\"] = data[\"input\"].apply(lambda x: apply_mask_GRUD(x, \"mask\"))"
   ]
  },
  {
   "cell_type": "markdown",
   "metadata": {},
   "source": [
    "### prepare dataset for APC"
   ]
  },
  {
   "cell_type": "code",
   "execution_count": null,
   "metadata": {},
   "outputs": [],
   "source": [
    "def get_daily_mask(input_one_hot_day):    \n",
    "    daily_mask = input_one_hot_day.copy()\n",
    "    \n",
    "    #BC method\n",
    "    if (input_one_hot_day[:5] == np.array([0.0, 0.0, 0.0, 0.0, 1.0])).all():\n",
    "        daily_mask[:5] = -1\n",
    "    \n",
    "    #pill_hbc\n",
    "    if (input_one_hot_day[5:10] == np.array([0.0, 0.0, 0.0, 0.0, 0.0])).all():\n",
    "        daily_mask[5:10] = -1\n",
    "    \n",
    "    #period\n",
    "    if (input_one_hot_day[10:12] == np.array([0.0, 1.0])).all():\n",
    "        daily_mask[10:12] = -1\n",
    "    daily_mask[12] = -1\n",
    "    \n",
    "    #pain\n",
    "    if (input_one_hot_day[12:17] == np.array([0.0, 0.0, 0.0, 0.0, 0.0])).all():\n",
    "        daily_mask[12:17] = -1\n",
    "    \n",
    "    #productivity\n",
    "    if (input_one_hot_day[17:19] == np.array([0.0, 1.0])).all():\n",
    "        daily_mask[17:19] = -1\n",
    "    daily_mask[19] = -1\n",
    "    \n",
    "    #social\n",
    "    if (input_one_hot_day[19:24] == np.array([0.0, 0.0, 0.0, 0.0, 0.0])).all():\n",
    "        daily_mask[19:24] = -1\n",
    "    \n",
    "    #energy\n",
    "    if (input_one_hot_day[24:26] == np.array([0.0, 1.0])).all():\n",
    "        daily_mask[24:26] = -1\n",
    "    daily_mask[26] = -1\n",
    "    \n",
    "    #medication\n",
    "    if input_one_hot_day[26] == 0.0:\n",
    "        daily_mask[26] = -1\n",
    "    \n",
    "    #emotion\n",
    "    if (input_one_hot_day[27:32] == np.array([0.0, 0.0, 0.0, 0.0, 0.0])).all():\n",
    "        daily_mask[27:32] = -1\n",
    "    \n",
    "    #mental\n",
    "    if (input_one_hot_day[32:37] == np.array([0.0, 0.0, 0.0, 0.0, 0.0])).all():\n",
    "        daily_mask[32:37] = -1\n",
    "    \n",
    "    #motivation\n",
    "    if (input_one_hot_day[37:] == np.array([0.0, 1.0])).all():\n",
    "        daily_mask[37:] = -1\n",
    "    \n",
    "    daily_mask[38] = -1\n",
    "    \n",
    "    return daily_mask "
   ]
  },
  {
   "cell_type": "code",
   "execution_count": null,
   "metadata": {},
   "outputs": [],
   "source": [
    "def apply_mask(input_one_hot):\n",
    "    masked_input = np.apply_along_axis(get_daily_mask, 1, input_one_hot)\n",
    "    return masked_input"
   ]
  },
  {
   "cell_type": "code",
   "execution_count": null,
   "metadata": {},
   "outputs": [],
   "source": [
    "dataset[\"APC_masked_one_hot\"] = dataset[\"APC_one_hot\"].apply(lambda x: apply_mask(x))"
   ]
  },
  {
   "cell_type": "markdown",
   "metadata": {},
   "source": [
    "### save final dataset"
   ]
  },
  {
   "cell_type": "code",
   "execution_count": null,
   "metadata": {},
   "outputs": [],
   "source": [
    "with open('clue.pickle', 'wb') as handle:\n",
    "    pickle.dump(dataset, handle, protocol=pickle.HIGHEST_PROTOCOL)"
   ]
  }
 ],
 "metadata": {
  "colab": {
   "collapsed_sections": [],
   "name": "clue_filtering.ipynb",
   "provenance": []
  },
  "kernelspec": {
   "display_name": "Python 3",
   "language": "python",
   "name": "python3"
  },
  "language_info": {
   "codemirror_mode": {
    "name": "ipython",
    "version": 3
   },
   "file_extension": ".py",
   "mimetype": "text/x-python",
   "name": "python",
   "nbconvert_exporter": "python",
   "pygments_lexer": "ipython3",
   "version": "3.6.10"
  }
 },
 "nbformat": 4,
 "nbformat_minor": 1
}
